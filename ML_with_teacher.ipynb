{
 "cells": [
  {
   "cell_type": "markdown",
   "metadata": {
    "toc": true
   },
   "source": [
    "<h1>Содержание<span class=\"tocSkip\"></span></h1>\n",
    "<div class=\"toc\"><ul class=\"toc-item\"><li><span><a href=\"#Подготовка-данных\" data-toc-modified-id=\"Подготовка-данных-1\"><span class=\"toc-item-num\">1&nbsp;&nbsp;</span>Подготовка данных</a></span></li><li><span><a href=\"#Исследование-задачи\" data-toc-modified-id=\"Исследование-задачи-2\"><span class=\"toc-item-num\">2&nbsp;&nbsp;</span>Исследование задачи</a></span></li><li><span><a href=\"#Борьба-с-дисбалансом\" data-toc-modified-id=\"Борьба-с-дисбалансом-3\"><span class=\"toc-item-num\">3&nbsp;&nbsp;</span>Борьба с дисбалансом</a></span></li><li><span><a href=\"#Тестирование-модели\" data-toc-modified-id=\"Тестирование-модели-4\"><span class=\"toc-item-num\">4&nbsp;&nbsp;</span>Тестирование модели</a></span></li><li><span><a href=\"#Вывод\" data-toc-modified-id=\"Вывод-5\"><span class=\"toc-item-num\">5&nbsp;&nbsp;</span>Вывод</a></span></li></ul></div>"
   ]
  },
  {
   "cell_type": "markdown",
   "metadata": {},
   "source": [
    "# Отток клиентов"
   ]
  },
  {
   "cell_type": "markdown",
   "metadata": {},
   "source": [
    "https://github.com/AlexeyGankov/YP_ml_with_teacher",
    "Из «Бета-Банка» стали уходить клиенты. Каждый месяц. Немного, но заметно. Банковские маркетологи посчитали: сохранять текущих клиентов дешевле, чем привлекать новых.\n",
    "\n",
    "Нужно спрогнозировать, уйдёт клиент из банка в ближайшее время или нет. Вам предоставлены исторические данные о поведении клиентов и расторжении договоров с банком. \n",
    "\n",
    "Постройте модель с предельно большим значением *F1*-меры. Чтобы сдать проект успешно, нужно довести метрику до 0.59. Проверьте *F1*-меру на тестовой выборке самостоятельно.\n",
    "\n",
    "Дополнительно измеряйте *AUC-ROC*, сравнивайте её значение с *F1*-мерой.\n",
    "\n",
    "Источник данных: [https://www.kaggle.com/barelydedicated/bank-customer-churn-modeling](https://www.kaggle.com/barelydedicated/bank-customer-churn-modeling)"
   ]
  },
  {
   "cell_type": "markdown",
   "metadata": {},
   "source": [
    "## Подготовка данных"
   ]
  },
  {
   "cell_type": "code",
   "execution_count": 21,
   "metadata": {},
   "outputs": [],
   "source": [
    "import pandas as pd\n",
    "from sklearn.model_selection import train_test_split\n",
    "from sklearn.linear_model import LogisticRegression\n",
    "from sklearn.tree import DecisionTreeClassifier\n",
    "from sklearn.tree import DecisionTreeRegressor\n",
    "from sklearn.ensemble import RandomForestClassifier\n",
    "from sklearn.metrics import f1_score\n",
    "from sklearn.utils import shuffle\n",
    "from sklearn.metrics import roc_auc_score\n",
    "from sklearn.metrics import roc_curve\n",
    "import matplotlib.pyplot as plt\n",
    "from sklearn.preprocessing import StandardScaler"
   ]
  },
  {
   "cell_type": "code",
   "execution_count": 2,
   "metadata": {},
   "outputs": [],
   "source": [
    "df = pd.read_csv(\"/datasets/Churn.csv\")"
   ]
  },
  {
   "cell_type": "code",
   "execution_count": 127,
   "metadata": {
    "scrolled": true
   },
   "outputs": [],
   "source": [
    "#для локальной работы\n",
    "#df = pd.read_csv(\"Churn.csv\")"
   ]
  },
  {
   "cell_type": "code",
   "execution_count": 29,
   "metadata": {
    "scrolled": false
   },
   "outputs": [
    {
     "name": "stdout",
     "output_type": "stream",
     "text": [
      "<class 'pandas.core.frame.DataFrame'>\n",
      "RangeIndex: 10000 entries, 0 to 9999\n",
      "Data columns (total 14 columns):\n",
      " #   Column           Non-Null Count  Dtype  \n",
      "---  ------           --------------  -----  \n",
      " 0   RowNumber        10000 non-null  int64  \n",
      " 1   CustomerId       10000 non-null  int64  \n",
      " 2   Surname          10000 non-null  object \n",
      " 3   CreditScore      10000 non-null  int64  \n",
      " 4   Geography        10000 non-null  object \n",
      " 5   Gender           10000 non-null  object \n",
      " 6   Age              10000 non-null  int64  \n",
      " 7   Tenure           9091 non-null   float64\n",
      " 8   Balance          10000 non-null  float64\n",
      " 9   NumOfProducts    10000 non-null  int64  \n",
      " 10  HasCrCard        10000 non-null  int64  \n",
      " 11  IsActiveMember   10000 non-null  int64  \n",
      " 12  EstimatedSalary  10000 non-null  float64\n",
      " 13  Exited           10000 non-null  int64  \n",
      "dtypes: float64(3), int64(8), object(3)\n",
      "memory usage: 1.1+ MB\n",
      "None\n"
     ]
    },
    {
     "data": {
      "text/html": [
       "<div>\n",
       "<style scoped>\n",
       "    .dataframe tbody tr th:only-of-type {\n",
       "        vertical-align: middle;\n",
       "    }\n",
       "\n",
       "    .dataframe tbody tr th {\n",
       "        vertical-align: top;\n",
       "    }\n",
       "\n",
       "    .dataframe thead th {\n",
       "        text-align: right;\n",
       "    }\n",
       "</style>\n",
       "<table border=\"1\" class=\"dataframe\">\n",
       "  <thead>\n",
       "    <tr style=\"text-align: right;\">\n",
       "      <th></th>\n",
       "      <th>RowNumber</th>\n",
       "      <th>CustomerId</th>\n",
       "      <th>Surname</th>\n",
       "      <th>CreditScore</th>\n",
       "      <th>Geography</th>\n",
       "      <th>Gender</th>\n",
       "      <th>Age</th>\n",
       "      <th>Tenure</th>\n",
       "      <th>Balance</th>\n",
       "      <th>NumOfProducts</th>\n",
       "      <th>HasCrCard</th>\n",
       "      <th>IsActiveMember</th>\n",
       "      <th>EstimatedSalary</th>\n",
       "      <th>Exited</th>\n",
       "    </tr>\n",
       "  </thead>\n",
       "  <tbody>\n",
       "    <tr>\n",
       "      <th>0</th>\n",
       "      <td>1</td>\n",
       "      <td>15634602</td>\n",
       "      <td>Hargrave</td>\n",
       "      <td>619</td>\n",
       "      <td>France</td>\n",
       "      <td>Female</td>\n",
       "      <td>42</td>\n",
       "      <td>2.0</td>\n",
       "      <td>0.00</td>\n",
       "      <td>1</td>\n",
       "      <td>1</td>\n",
       "      <td>1</td>\n",
       "      <td>101348.88</td>\n",
       "      <td>1</td>\n",
       "    </tr>\n",
       "    <tr>\n",
       "      <th>1</th>\n",
       "      <td>2</td>\n",
       "      <td>15647311</td>\n",
       "      <td>Hill</td>\n",
       "      <td>608</td>\n",
       "      <td>Spain</td>\n",
       "      <td>Female</td>\n",
       "      <td>41</td>\n",
       "      <td>1.0</td>\n",
       "      <td>83807.86</td>\n",
       "      <td>1</td>\n",
       "      <td>0</td>\n",
       "      <td>1</td>\n",
       "      <td>112542.58</td>\n",
       "      <td>0</td>\n",
       "    </tr>\n",
       "    <tr>\n",
       "      <th>2</th>\n",
       "      <td>3</td>\n",
       "      <td>15619304</td>\n",
       "      <td>Onio</td>\n",
       "      <td>502</td>\n",
       "      <td>France</td>\n",
       "      <td>Female</td>\n",
       "      <td>42</td>\n",
       "      <td>8.0</td>\n",
       "      <td>159660.80</td>\n",
       "      <td>3</td>\n",
       "      <td>1</td>\n",
       "      <td>0</td>\n",
       "      <td>113931.57</td>\n",
       "      <td>1</td>\n",
       "    </tr>\n",
       "    <tr>\n",
       "      <th>3</th>\n",
       "      <td>4</td>\n",
       "      <td>15701354</td>\n",
       "      <td>Boni</td>\n",
       "      <td>699</td>\n",
       "      <td>France</td>\n",
       "      <td>Female</td>\n",
       "      <td>39</td>\n",
       "      <td>1.0</td>\n",
       "      <td>0.00</td>\n",
       "      <td>2</td>\n",
       "      <td>0</td>\n",
       "      <td>0</td>\n",
       "      <td>93826.63</td>\n",
       "      <td>0</td>\n",
       "    </tr>\n",
       "    <tr>\n",
       "      <th>4</th>\n",
       "      <td>5</td>\n",
       "      <td>15737888</td>\n",
       "      <td>Mitchell</td>\n",
       "      <td>850</td>\n",
       "      <td>Spain</td>\n",
       "      <td>Female</td>\n",
       "      <td>43</td>\n",
       "      <td>2.0</td>\n",
       "      <td>125510.82</td>\n",
       "      <td>1</td>\n",
       "      <td>1</td>\n",
       "      <td>1</td>\n",
       "      <td>79084.10</td>\n",
       "      <td>0</td>\n",
       "    </tr>\n",
       "  </tbody>\n",
       "</table>\n",
       "</div>"
      ],
      "text/plain": [
       "   RowNumber  CustomerId   Surname  CreditScore Geography  Gender  Age  \\\n",
       "0          1    15634602  Hargrave          619    France  Female   42   \n",
       "1          2    15647311      Hill          608     Spain  Female   41   \n",
       "2          3    15619304      Onio          502    France  Female   42   \n",
       "3          4    15701354      Boni          699    France  Female   39   \n",
       "4          5    15737888  Mitchell          850     Spain  Female   43   \n",
       "\n",
       "   Tenure    Balance  NumOfProducts  HasCrCard  IsActiveMember  \\\n",
       "0     2.0       0.00              1          1               1   \n",
       "1     1.0   83807.86              1          0               1   \n",
       "2     8.0  159660.80              3          1               0   \n",
       "3     1.0       0.00              2          0               0   \n",
       "4     2.0  125510.82              1          1               1   \n",
       "\n",
       "   EstimatedSalary  Exited  \n",
       "0        101348.88       1  \n",
       "1        112542.58       0  \n",
       "2        113931.57       1  \n",
       "3         93826.63       0  \n",
       "4         79084.10       0  "
      ]
     },
     "metadata": {},
     "output_type": "display_data"
    },
    {
     "data": {
      "text/html": [
       "<div>\n",
       "<style scoped>\n",
       "    .dataframe tbody tr th:only-of-type {\n",
       "        vertical-align: middle;\n",
       "    }\n",
       "\n",
       "    .dataframe tbody tr th {\n",
       "        vertical-align: top;\n",
       "    }\n",
       "\n",
       "    .dataframe thead th {\n",
       "        text-align: right;\n",
       "    }\n",
       "</style>\n",
       "<table border=\"1\" class=\"dataframe\">\n",
       "  <thead>\n",
       "    <tr style=\"text-align: right;\">\n",
       "      <th></th>\n",
       "      <th>RowNumber</th>\n",
       "      <th>CustomerId</th>\n",
       "      <th>Surname</th>\n",
       "      <th>CreditScore</th>\n",
       "      <th>Geography</th>\n",
       "      <th>Gender</th>\n",
       "      <th>Age</th>\n",
       "      <th>Tenure</th>\n",
       "      <th>Balance</th>\n",
       "      <th>NumOfProducts</th>\n",
       "      <th>HasCrCard</th>\n",
       "      <th>IsActiveMember</th>\n",
       "      <th>EstimatedSalary</th>\n",
       "      <th>Exited</th>\n",
       "    </tr>\n",
       "  </thead>\n",
       "  <tbody>\n",
       "    <tr>\n",
       "      <th>9995</th>\n",
       "      <td>9996</td>\n",
       "      <td>15606229</td>\n",
       "      <td>Obijiaku</td>\n",
       "      <td>771</td>\n",
       "      <td>France</td>\n",
       "      <td>Male</td>\n",
       "      <td>39</td>\n",
       "      <td>5.0</td>\n",
       "      <td>0.00</td>\n",
       "      <td>2</td>\n",
       "      <td>1</td>\n",
       "      <td>0</td>\n",
       "      <td>96270.64</td>\n",
       "      <td>0</td>\n",
       "    </tr>\n",
       "    <tr>\n",
       "      <th>9996</th>\n",
       "      <td>9997</td>\n",
       "      <td>15569892</td>\n",
       "      <td>Johnstone</td>\n",
       "      <td>516</td>\n",
       "      <td>France</td>\n",
       "      <td>Male</td>\n",
       "      <td>35</td>\n",
       "      <td>10.0</td>\n",
       "      <td>57369.61</td>\n",
       "      <td>1</td>\n",
       "      <td>1</td>\n",
       "      <td>1</td>\n",
       "      <td>101699.77</td>\n",
       "      <td>0</td>\n",
       "    </tr>\n",
       "    <tr>\n",
       "      <th>9997</th>\n",
       "      <td>9998</td>\n",
       "      <td>15584532</td>\n",
       "      <td>Liu</td>\n",
       "      <td>709</td>\n",
       "      <td>France</td>\n",
       "      <td>Female</td>\n",
       "      <td>36</td>\n",
       "      <td>7.0</td>\n",
       "      <td>0.00</td>\n",
       "      <td>1</td>\n",
       "      <td>0</td>\n",
       "      <td>1</td>\n",
       "      <td>42085.58</td>\n",
       "      <td>1</td>\n",
       "    </tr>\n",
       "    <tr>\n",
       "      <th>9998</th>\n",
       "      <td>9999</td>\n",
       "      <td>15682355</td>\n",
       "      <td>Sabbatini</td>\n",
       "      <td>772</td>\n",
       "      <td>Germany</td>\n",
       "      <td>Male</td>\n",
       "      <td>42</td>\n",
       "      <td>3.0</td>\n",
       "      <td>75075.31</td>\n",
       "      <td>2</td>\n",
       "      <td>1</td>\n",
       "      <td>0</td>\n",
       "      <td>92888.52</td>\n",
       "      <td>1</td>\n",
       "    </tr>\n",
       "    <tr>\n",
       "      <th>9999</th>\n",
       "      <td>10000</td>\n",
       "      <td>15628319</td>\n",
       "      <td>Walker</td>\n",
       "      <td>792</td>\n",
       "      <td>France</td>\n",
       "      <td>Female</td>\n",
       "      <td>28</td>\n",
       "      <td>NaN</td>\n",
       "      <td>130142.79</td>\n",
       "      <td>1</td>\n",
       "      <td>1</td>\n",
       "      <td>0</td>\n",
       "      <td>38190.78</td>\n",
       "      <td>0</td>\n",
       "    </tr>\n",
       "  </tbody>\n",
       "</table>\n",
       "</div>"
      ],
      "text/plain": [
       "      RowNumber  CustomerId    Surname  CreditScore Geography  Gender  Age  \\\n",
       "9995       9996    15606229   Obijiaku          771    France    Male   39   \n",
       "9996       9997    15569892  Johnstone          516    France    Male   35   \n",
       "9997       9998    15584532        Liu          709    France  Female   36   \n",
       "9998       9999    15682355  Sabbatini          772   Germany    Male   42   \n",
       "9999      10000    15628319     Walker          792    France  Female   28   \n",
       "\n",
       "      Tenure    Balance  NumOfProducts  HasCrCard  IsActiveMember  \\\n",
       "9995     5.0       0.00              2          1               0   \n",
       "9996    10.0   57369.61              1          1               1   \n",
       "9997     7.0       0.00              1          0               1   \n",
       "9998     3.0   75075.31              2          1               0   \n",
       "9999     NaN  130142.79              1          1               0   \n",
       "\n",
       "      EstimatedSalary  Exited  \n",
       "9995         96270.64       0  \n",
       "9996        101699.77       0  \n",
       "9997         42085.58       1  \n",
       "9998         92888.52       1  \n",
       "9999         38190.78       0  "
      ]
     },
     "metadata": {},
     "output_type": "display_data"
    },
    {
     "data": {
      "text/html": [
       "<div>\n",
       "<style scoped>\n",
       "    .dataframe tbody tr th:only-of-type {\n",
       "        vertical-align: middle;\n",
       "    }\n",
       "\n",
       "    .dataframe tbody tr th {\n",
       "        vertical-align: top;\n",
       "    }\n",
       "\n",
       "    .dataframe thead th {\n",
       "        text-align: right;\n",
       "    }\n",
       "</style>\n",
       "<table border=\"1\" class=\"dataframe\">\n",
       "  <thead>\n",
       "    <tr style=\"text-align: right;\">\n",
       "      <th></th>\n",
       "      <th>RowNumber</th>\n",
       "      <th>CustomerId</th>\n",
       "      <th>CreditScore</th>\n",
       "      <th>Age</th>\n",
       "      <th>Tenure</th>\n",
       "      <th>Balance</th>\n",
       "      <th>NumOfProducts</th>\n",
       "      <th>HasCrCard</th>\n",
       "      <th>IsActiveMember</th>\n",
       "      <th>EstimatedSalary</th>\n",
       "      <th>Exited</th>\n",
       "    </tr>\n",
       "  </thead>\n",
       "  <tbody>\n",
       "    <tr>\n",
       "      <th>count</th>\n",
       "      <td>10000.00000</td>\n",
       "      <td>1.000000e+04</td>\n",
       "      <td>10000.000000</td>\n",
       "      <td>10000.000000</td>\n",
       "      <td>9091.000000</td>\n",
       "      <td>10000.000000</td>\n",
       "      <td>10000.000000</td>\n",
       "      <td>10000.00000</td>\n",
       "      <td>10000.000000</td>\n",
       "      <td>10000.000000</td>\n",
       "      <td>10000.000000</td>\n",
       "    </tr>\n",
       "    <tr>\n",
       "      <th>mean</th>\n",
       "      <td>5000.50000</td>\n",
       "      <td>1.569094e+07</td>\n",
       "      <td>650.528800</td>\n",
       "      <td>38.921800</td>\n",
       "      <td>4.997690</td>\n",
       "      <td>76485.889288</td>\n",
       "      <td>1.530200</td>\n",
       "      <td>0.70550</td>\n",
       "      <td>0.515100</td>\n",
       "      <td>100090.239881</td>\n",
       "      <td>0.203700</td>\n",
       "    </tr>\n",
       "    <tr>\n",
       "      <th>std</th>\n",
       "      <td>2886.89568</td>\n",
       "      <td>7.193619e+04</td>\n",
       "      <td>96.653299</td>\n",
       "      <td>10.487806</td>\n",
       "      <td>2.894723</td>\n",
       "      <td>62397.405202</td>\n",
       "      <td>0.581654</td>\n",
       "      <td>0.45584</td>\n",
       "      <td>0.499797</td>\n",
       "      <td>57510.492818</td>\n",
       "      <td>0.402769</td>\n",
       "    </tr>\n",
       "    <tr>\n",
       "      <th>min</th>\n",
       "      <td>1.00000</td>\n",
       "      <td>1.556570e+07</td>\n",
       "      <td>350.000000</td>\n",
       "      <td>18.000000</td>\n",
       "      <td>0.000000</td>\n",
       "      <td>0.000000</td>\n",
       "      <td>1.000000</td>\n",
       "      <td>0.00000</td>\n",
       "      <td>0.000000</td>\n",
       "      <td>11.580000</td>\n",
       "      <td>0.000000</td>\n",
       "    </tr>\n",
       "    <tr>\n",
       "      <th>25%</th>\n",
       "      <td>2500.75000</td>\n",
       "      <td>1.562853e+07</td>\n",
       "      <td>584.000000</td>\n",
       "      <td>32.000000</td>\n",
       "      <td>2.000000</td>\n",
       "      <td>0.000000</td>\n",
       "      <td>1.000000</td>\n",
       "      <td>0.00000</td>\n",
       "      <td>0.000000</td>\n",
       "      <td>51002.110000</td>\n",
       "      <td>0.000000</td>\n",
       "    </tr>\n",
       "    <tr>\n",
       "      <th>50%</th>\n",
       "      <td>5000.50000</td>\n",
       "      <td>1.569074e+07</td>\n",
       "      <td>652.000000</td>\n",
       "      <td>37.000000</td>\n",
       "      <td>5.000000</td>\n",
       "      <td>97198.540000</td>\n",
       "      <td>1.000000</td>\n",
       "      <td>1.00000</td>\n",
       "      <td>1.000000</td>\n",
       "      <td>100193.915000</td>\n",
       "      <td>0.000000</td>\n",
       "    </tr>\n",
       "    <tr>\n",
       "      <th>75%</th>\n",
       "      <td>7500.25000</td>\n",
       "      <td>1.575323e+07</td>\n",
       "      <td>718.000000</td>\n",
       "      <td>44.000000</td>\n",
       "      <td>7.000000</td>\n",
       "      <td>127644.240000</td>\n",
       "      <td>2.000000</td>\n",
       "      <td>1.00000</td>\n",
       "      <td>1.000000</td>\n",
       "      <td>149388.247500</td>\n",
       "      <td>0.000000</td>\n",
       "    </tr>\n",
       "    <tr>\n",
       "      <th>max</th>\n",
       "      <td>10000.00000</td>\n",
       "      <td>1.581569e+07</td>\n",
       "      <td>850.000000</td>\n",
       "      <td>92.000000</td>\n",
       "      <td>10.000000</td>\n",
       "      <td>250898.090000</td>\n",
       "      <td>4.000000</td>\n",
       "      <td>1.00000</td>\n",
       "      <td>1.000000</td>\n",
       "      <td>199992.480000</td>\n",
       "      <td>1.000000</td>\n",
       "    </tr>\n",
       "  </tbody>\n",
       "</table>\n",
       "</div>"
      ],
      "text/plain": [
       "         RowNumber    CustomerId   CreditScore           Age       Tenure  \\\n",
       "count  10000.00000  1.000000e+04  10000.000000  10000.000000  9091.000000   \n",
       "mean    5000.50000  1.569094e+07    650.528800     38.921800     4.997690   \n",
       "std     2886.89568  7.193619e+04     96.653299     10.487806     2.894723   \n",
       "min        1.00000  1.556570e+07    350.000000     18.000000     0.000000   \n",
       "25%     2500.75000  1.562853e+07    584.000000     32.000000     2.000000   \n",
       "50%     5000.50000  1.569074e+07    652.000000     37.000000     5.000000   \n",
       "75%     7500.25000  1.575323e+07    718.000000     44.000000     7.000000   \n",
       "max    10000.00000  1.581569e+07    850.000000     92.000000    10.000000   \n",
       "\n",
       "             Balance  NumOfProducts    HasCrCard  IsActiveMember  \\\n",
       "count   10000.000000   10000.000000  10000.00000    10000.000000   \n",
       "mean    76485.889288       1.530200      0.70550        0.515100   \n",
       "std     62397.405202       0.581654      0.45584        0.499797   \n",
       "min         0.000000       1.000000      0.00000        0.000000   \n",
       "25%         0.000000       1.000000      0.00000        0.000000   \n",
       "50%     97198.540000       1.000000      1.00000        1.000000   \n",
       "75%    127644.240000       2.000000      1.00000        1.000000   \n",
       "max    250898.090000       4.000000      1.00000        1.000000   \n",
       "\n",
       "       EstimatedSalary        Exited  \n",
       "count     10000.000000  10000.000000  \n",
       "mean     100090.239881      0.203700  \n",
       "std       57510.492818      0.402769  \n",
       "min          11.580000      0.000000  \n",
       "25%       51002.110000      0.000000  \n",
       "50%      100193.915000      0.000000  \n",
       "75%      149388.247500      0.000000  \n",
       "max      199992.480000      1.000000  "
      ]
     },
     "metadata": {},
     "output_type": "display_data"
    }
   ],
   "source": [
    "print(df.info())\n",
    "display(df.head())\n",
    "\n",
    "display(df.tail())\n",
    "display(df.describe())"
   ]
  },
  {
   "cell_type": "markdown",
   "metadata": {},
   "source": [
    "**Данные выглядят адекватно (то есть загрузка файла прошла успешна). Теперь можно провести первичный анализ**"
   ]
  },
  {
   "cell_type": "markdown",
   "metadata": {},
   "source": [
    "**Необходимо обработать столбцы Geogrpahy и Gender по методике OHE. Остальные столбцы имеют праивльные тип для обучени модели (численный). И убрать заведомо не значащие столбцы(*). Также столбец Tenure требует обработки, тк содержит значения NaN. Сперва посмотрим содержимое этих столбцов** "
   ]
  },
  {
   "cell_type": "code",
   "execution_count": 30,
   "metadata": {
    "scrolled": false
   },
   "outputs": [
    {
     "name": "stdout",
     "output_type": "stream",
     "text": [
      "['France' 'Spain' 'Germany']\n",
      "['Female' 'Male']\n",
      "[ 2.  1.  8.  7.  4.  6.  3. 10.  5.  9.  0. nan]\n"
     ]
    }
   ],
   "source": [
    "print(df.Geography.unique())\n",
    "print(df.Gender.unique())\n",
    "print(df.Tenure.unique())"
   ]
  },
  {
   "cell_type": "markdown",
   "metadata": {},
   "source": [
    "**Проводим кодирование, убирая избыточный столец, чтобы избежат мультиколлинеарности.**"
   ]
  },
  {
   "cell_type": "code",
   "execution_count": 31,
   "metadata": {},
   "outputs": [],
   "source": [
    "df_country = pd.get_dummies(df.Geography, drop_first=True)\n",
    "df_gender = pd.get_dummies(df.Gender, drop_first=True)"
   ]
  },
  {
   "cell_type": "markdown",
   "metadata": {},
   "source": [
    "**Формируем готовый датасет фич, удалив ненужные столбцы. Для столбца tenure заполняем ячейки NaN медианным значением по имеющимся значениям в столбце.**"
   ]
  },
  {
   "cell_type": "code",
   "execution_count": 32,
   "metadata": {
    "scrolled": false
   },
   "outputs": [
    {
     "data": {
      "text/html": [
       "<div>\n",
       "<style scoped>\n",
       "    .dataframe tbody tr th:only-of-type {\n",
       "        vertical-align: middle;\n",
       "    }\n",
       "\n",
       "    .dataframe tbody tr th {\n",
       "        vertical-align: top;\n",
       "    }\n",
       "\n",
       "    .dataframe thead th {\n",
       "        text-align: right;\n",
       "    }\n",
       "</style>\n",
       "<table border=\"1\" class=\"dataframe\">\n",
       "  <thead>\n",
       "    <tr style=\"text-align: right;\">\n",
       "      <th></th>\n",
       "      <th>CreditScore</th>\n",
       "      <th>Age</th>\n",
       "      <th>Tenure</th>\n",
       "      <th>Balance</th>\n",
       "      <th>NumOfProducts</th>\n",
       "      <th>HasCrCard</th>\n",
       "      <th>IsActiveMember</th>\n",
       "      <th>EstimatedSalary</th>\n",
       "      <th>Male</th>\n",
       "      <th>Germany</th>\n",
       "      <th>Spain</th>\n",
       "    </tr>\n",
       "  </thead>\n",
       "  <tbody>\n",
       "    <tr>\n",
       "      <th>0</th>\n",
       "      <td>619</td>\n",
       "      <td>42</td>\n",
       "      <td>2.0</td>\n",
       "      <td>0.00</td>\n",
       "      <td>1</td>\n",
       "      <td>1</td>\n",
       "      <td>1</td>\n",
       "      <td>101348.88</td>\n",
       "      <td>0</td>\n",
       "      <td>0</td>\n",
       "      <td>0</td>\n",
       "    </tr>\n",
       "    <tr>\n",
       "      <th>1</th>\n",
       "      <td>608</td>\n",
       "      <td>41</td>\n",
       "      <td>1.0</td>\n",
       "      <td>83807.86</td>\n",
       "      <td>1</td>\n",
       "      <td>0</td>\n",
       "      <td>1</td>\n",
       "      <td>112542.58</td>\n",
       "      <td>0</td>\n",
       "      <td>0</td>\n",
       "      <td>1</td>\n",
       "    </tr>\n",
       "    <tr>\n",
       "      <th>2</th>\n",
       "      <td>502</td>\n",
       "      <td>42</td>\n",
       "      <td>8.0</td>\n",
       "      <td>159660.80</td>\n",
       "      <td>3</td>\n",
       "      <td>1</td>\n",
       "      <td>0</td>\n",
       "      <td>113931.57</td>\n",
       "      <td>0</td>\n",
       "      <td>0</td>\n",
       "      <td>0</td>\n",
       "    </tr>\n",
       "    <tr>\n",
       "      <th>3</th>\n",
       "      <td>699</td>\n",
       "      <td>39</td>\n",
       "      <td>1.0</td>\n",
       "      <td>0.00</td>\n",
       "      <td>2</td>\n",
       "      <td>0</td>\n",
       "      <td>0</td>\n",
       "      <td>93826.63</td>\n",
       "      <td>0</td>\n",
       "      <td>0</td>\n",
       "      <td>0</td>\n",
       "    </tr>\n",
       "    <tr>\n",
       "      <th>4</th>\n",
       "      <td>850</td>\n",
       "      <td>43</td>\n",
       "      <td>2.0</td>\n",
       "      <td>125510.82</td>\n",
       "      <td>1</td>\n",
       "      <td>1</td>\n",
       "      <td>1</td>\n",
       "      <td>79084.10</td>\n",
       "      <td>0</td>\n",
       "      <td>0</td>\n",
       "      <td>1</td>\n",
       "    </tr>\n",
       "    <tr>\n",
       "      <th>...</th>\n",
       "      <td>...</td>\n",
       "      <td>...</td>\n",
       "      <td>...</td>\n",
       "      <td>...</td>\n",
       "      <td>...</td>\n",
       "      <td>...</td>\n",
       "      <td>...</td>\n",
       "      <td>...</td>\n",
       "      <td>...</td>\n",
       "      <td>...</td>\n",
       "      <td>...</td>\n",
       "    </tr>\n",
       "    <tr>\n",
       "      <th>9995</th>\n",
       "      <td>771</td>\n",
       "      <td>39</td>\n",
       "      <td>5.0</td>\n",
       "      <td>0.00</td>\n",
       "      <td>2</td>\n",
       "      <td>1</td>\n",
       "      <td>0</td>\n",
       "      <td>96270.64</td>\n",
       "      <td>1</td>\n",
       "      <td>0</td>\n",
       "      <td>0</td>\n",
       "    </tr>\n",
       "    <tr>\n",
       "      <th>9996</th>\n",
       "      <td>516</td>\n",
       "      <td>35</td>\n",
       "      <td>10.0</td>\n",
       "      <td>57369.61</td>\n",
       "      <td>1</td>\n",
       "      <td>1</td>\n",
       "      <td>1</td>\n",
       "      <td>101699.77</td>\n",
       "      <td>1</td>\n",
       "      <td>0</td>\n",
       "      <td>0</td>\n",
       "    </tr>\n",
       "    <tr>\n",
       "      <th>9997</th>\n",
       "      <td>709</td>\n",
       "      <td>36</td>\n",
       "      <td>7.0</td>\n",
       "      <td>0.00</td>\n",
       "      <td>1</td>\n",
       "      <td>0</td>\n",
       "      <td>1</td>\n",
       "      <td>42085.58</td>\n",
       "      <td>0</td>\n",
       "      <td>0</td>\n",
       "      <td>0</td>\n",
       "    </tr>\n",
       "    <tr>\n",
       "      <th>9998</th>\n",
       "      <td>772</td>\n",
       "      <td>42</td>\n",
       "      <td>3.0</td>\n",
       "      <td>75075.31</td>\n",
       "      <td>2</td>\n",
       "      <td>1</td>\n",
       "      <td>0</td>\n",
       "      <td>92888.52</td>\n",
       "      <td>1</td>\n",
       "      <td>1</td>\n",
       "      <td>0</td>\n",
       "    </tr>\n",
       "    <tr>\n",
       "      <th>9999</th>\n",
       "      <td>792</td>\n",
       "      <td>28</td>\n",
       "      <td>5.0</td>\n",
       "      <td>130142.79</td>\n",
       "      <td>1</td>\n",
       "      <td>1</td>\n",
       "      <td>0</td>\n",
       "      <td>38190.78</td>\n",
       "      <td>0</td>\n",
       "      <td>0</td>\n",
       "      <td>0</td>\n",
       "    </tr>\n",
       "  </tbody>\n",
       "</table>\n",
       "<p>10000 rows × 11 columns</p>\n",
       "</div>"
      ],
      "text/plain": [
       "      CreditScore  Age  Tenure    Balance  NumOfProducts  HasCrCard  \\\n",
       "0             619   42     2.0       0.00              1          1   \n",
       "1             608   41     1.0   83807.86              1          0   \n",
       "2             502   42     8.0  159660.80              3          1   \n",
       "3             699   39     1.0       0.00              2          0   \n",
       "4             850   43     2.0  125510.82              1          1   \n",
       "...           ...  ...     ...        ...            ...        ...   \n",
       "9995          771   39     5.0       0.00              2          1   \n",
       "9996          516   35    10.0   57369.61              1          1   \n",
       "9997          709   36     7.0       0.00              1          0   \n",
       "9998          772   42     3.0   75075.31              2          1   \n",
       "9999          792   28     5.0  130142.79              1          1   \n",
       "\n",
       "      IsActiveMember  EstimatedSalary  Male  Germany  Spain  \n",
       "0                  1        101348.88     0        0      0  \n",
       "1                  1        112542.58     0        0      1  \n",
       "2                  0        113931.57     0        0      0  \n",
       "3                  0         93826.63     0        0      0  \n",
       "4                  1         79084.10     0        0      1  \n",
       "...              ...              ...   ...      ...    ...  \n",
       "9995               0         96270.64     1        0      0  \n",
       "9996               1        101699.77     1        0      0  \n",
       "9997               1         42085.58     0        0      0  \n",
       "9998               0         92888.52     1        1      0  \n",
       "9999               0         38190.78     0        0      0  \n",
       "\n",
       "[10000 rows x 11 columns]"
      ]
     },
     "metadata": {},
     "output_type": "display_data"
    }
   ],
   "source": [
    "df_features = df.join([df_gender, df_country]).drop([\"Exited\", \"RowNumber\", \"CustomerId\", \"Surname\"], axis=1)\n",
    "df_features  = df_features.drop(['Gender', \"Geography\"], axis = 1) \n",
    "df_features.Tenure.fillna(df_features.Tenure.median(), inplace = True)\n",
    "display(df_features)"
   ]
  },
  {
   "cell_type": "code",
   "execution_count": 33,
   "metadata": {},
   "outputs": [
    {
     "data": {
      "text/plain": [
       "5.0"
      ]
     },
     "execution_count": 33,
     "metadata": {},
     "output_type": "execute_result"
    }
   ],
   "source": [
    "df_features.Tenure.median()"
   ]
  },
  {
   "cell_type": "markdown",
   "metadata": {},
   "source": [
    "**Датасет тагетов:**"
   ]
  },
  {
   "cell_type": "code",
   "execution_count": 19,
   "metadata": {
    "scrolled": true
   },
   "outputs": [
    {
     "data": {
      "text/plain": [
       "0       1\n",
       "1       0\n",
       "2       1\n",
       "3       0\n",
       "4       0\n",
       "       ..\n",
       "9995    0\n",
       "9996    0\n",
       "9997    1\n",
       "9998    1\n",
       "9999    0\n",
       "Name: Exited, Length: 10000, dtype: int64"
      ]
     },
     "metadata": {},
     "output_type": "display_data"
    }
   ],
   "source": [
    "df_target = df.Exited\n",
    "display(df_target)"
   ]
  },
  {
   "cell_type": "markdown",
   "metadata": {},
   "source": [
    "**Теперь разобьем датасет на обучающий и валидирующий и тестовый (для последнего раздела).**"
   ]
  },
  {
   "cell_type": "code",
   "execution_count": 34,
   "metadata": {},
   "outputs": [
    {
     "name": "stdout",
     "output_type": "stream",
     "text": [
      "(6000, 11) (2000, 11) (2000, 11)\n",
      "(6000,) (2000,) (2000,)\n"
     ]
    }
   ],
   "source": [
    "features_train, features_tmp, target_train, target_tmp = train_test_split(df_features, df_target, test_size=0.4,random_state=54321)\n",
    "features_valid, features_test, target_valid, target_test = train_test_split(features_tmp, target_tmp, test_size=0.5,random_state=54321)\n",
    "#\n",
    "print(features_train.shape, features_valid.shape, features_test.shape)\n",
    "print(target_train.shape, target_valid.shape, target_test.shape)"
   ]
  },
  {
   "cell_type": "code",
   "execution_count": 1,
   "metadata": {
    "scrolled": true
   },
   "outputs": [
    {
     "ename": "NameError",
     "evalue": "name 'StandardScaler' is not defined",
     "output_type": "error",
     "traceback": [
      "\u001b[0;31m---------------------------------------------------------------------------\u001b[0m",
      "\u001b[0;31mNameError\u001b[0m                                 Traceback (most recent call last)",
      "Cell \u001b[0;32mIn [1], line 1\u001b[0m\n\u001b[0;32m----> 1\u001b[0m scaler \u001b[38;5;241m=\u001b[39m \u001b[43mStandardScaler\u001b[49m()\n\u001b[1;32m      2\u001b[0m numeric_columns \u001b[38;5;241m=\u001b[39m [\u001b[38;5;124m\"\u001b[39m\u001b[38;5;124mCreditScore\u001b[39m\u001b[38;5;124m\"\u001b[39m, \u001b[38;5;124m\"\u001b[39m\u001b[38;5;124mAge\u001b[39m\u001b[38;5;124m\"\u001b[39m, \u001b[38;5;124m\"\u001b[39m\u001b[38;5;124mTenure\u001b[39m\u001b[38;5;124m\"\u001b[39m, \u001b[38;5;124m\"\u001b[39m\u001b[38;5;124mBalance\u001b[39m\u001b[38;5;124m\"\u001b[39m, \u001b[38;5;124m\"\u001b[39m\u001b[38;5;124mEstimatedSalary\u001b[39m\u001b[38;5;124m\"\u001b[39m]\n\u001b[1;32m      3\u001b[0m scaler\u001b[38;5;241m.\u001b[39mfit(features_train[numeric_columns])\n",
      "\u001b[0;31mNameError\u001b[0m: name 'StandardScaler' is not defined"
     ]
    }
   ],
   "source": [
    "scaler = StandardScaler()\n",
    "numeric_columns = [\"CreditScore\", \"Age\", \"Tenure\", \"Balance\", \"EstimatedSalary\"]\n",
    "scaler.fit(features_train[numeric_columns])"
   ]
  },
  {
   "cell_type": "code",
   "execution_count": 38,
   "metadata": {},
   "outputs": [],
   "source": [
    "features_train[numeric_columns] = scaler.transform(features_train[numeric_columns])\n",
    "features_valid[numeric_columns] = scaler.transform(features_valid[numeric_columns])\n",
    "features_test[numeric_columns] = scaler.transform(features_test[numeric_columns])"
   ]
  },
  {
   "cell_type": "markdown",
   "metadata": {},
   "source": [
    "**проверим полученный результат, чтобы избежать недоразумений:**"
   ]
  },
  {
   "cell_type": "code",
   "execution_count": 40,
   "metadata": {},
   "outputs": [
    {
     "data": {
      "text/html": [
       "<div>\n",
       "<style scoped>\n",
       "    .dataframe tbody tr th:only-of-type {\n",
       "        vertical-align: middle;\n",
       "    }\n",
       "\n",
       "    .dataframe tbody tr th {\n",
       "        vertical-align: top;\n",
       "    }\n",
       "\n",
       "    .dataframe thead th {\n",
       "        text-align: right;\n",
       "    }\n",
       "</style>\n",
       "<table border=\"1\" class=\"dataframe\">\n",
       "  <thead>\n",
       "    <tr style=\"text-align: right;\">\n",
       "      <th></th>\n",
       "      <th>CreditScore</th>\n",
       "      <th>Age</th>\n",
       "      <th>Tenure</th>\n",
       "      <th>Balance</th>\n",
       "      <th>EstimatedSalary</th>\n",
       "    </tr>\n",
       "  </thead>\n",
       "  <tbody>\n",
       "    <tr>\n",
       "      <th>5241</th>\n",
       "      <td>-0.780083</td>\n",
       "      <td>0.197157</td>\n",
       "      <td>-1.440355</td>\n",
       "      <td>-1.229774</td>\n",
       "      <td>-0.527135</td>\n",
       "    </tr>\n",
       "    <tr>\n",
       "      <th>5716</th>\n",
       "      <td>-0.400308</td>\n",
       "      <td>-0.180991</td>\n",
       "      <td>-1.440355</td>\n",
       "      <td>0.651137</td>\n",
       "      <td>1.051744</td>\n",
       "    </tr>\n",
       "    <tr>\n",
       "      <th>8581</th>\n",
       "      <td>-0.667177</td>\n",
       "      <td>0.386232</td>\n",
       "      <td>-1.078865</td>\n",
       "      <td>-1.229774</td>\n",
       "      <td>-0.198282</td>\n",
       "    </tr>\n",
       "    <tr>\n",
       "      <th>3808</th>\n",
       "      <td>0.523471</td>\n",
       "      <td>0.197157</td>\n",
       "      <td>-1.801844</td>\n",
       "      <td>1.184406</td>\n",
       "      <td>0.468420</td>\n",
       "    </tr>\n",
       "    <tr>\n",
       "      <th>8541</th>\n",
       "      <td>-0.030796</td>\n",
       "      <td>0.764380</td>\n",
       "      <td>0.005603</td>\n",
       "      <td>0.460340</td>\n",
       "      <td>0.987144</td>\n",
       "    </tr>\n",
       "  </tbody>\n",
       "</table>\n",
       "</div>"
      ],
      "text/plain": [
       "      CreditScore       Age    Tenure   Balance  EstimatedSalary\n",
       "5241    -0.780083  0.197157 -1.440355 -1.229774        -0.527135\n",
       "5716    -0.400308 -0.180991 -1.440355  0.651137         1.051744\n",
       "8581    -0.667177  0.386232 -1.078865 -1.229774        -0.198282\n",
       "3808     0.523471  0.197157 -1.801844  1.184406         0.468420\n",
       "8541    -0.030796  0.764380  0.005603  0.460340         0.987144"
      ]
     },
     "metadata": {},
     "output_type": "display_data"
    }
   ],
   "source": [
    "display(features_train[numeric_columns].head())"
   ]
  },
  {
   "cell_type": "markdown",
   "metadata": {},
   "source": [
    "**Данные подготовлены к дальнейшей работе по обучению модели. Отсутствующие данные по полю Tenure - времени бытности клиентом банка заменены на медианные значения. Также для повышения качества модели проведена стандартизация численных значений датасета. Эта операция проведена с применением функции StandartScaler. (*) В процессе исследования исходных данных были проверены гипотезы: 1) убрать все строки с tenure = Nan - несколько снизило качество модели. 2) проверена зависимость от фамилии. Среди датасета было выявлено более 10 фамилий, которые встречались более одного раза в банке и все поголовно ушли из банка. Было применено \"порядковое кодирование\" для нумеризации фамилий. Это дало некоторый прирост качества модели, но очень малозначительный. Поэтому действия указанные в п1) и 2) исключены из финального отчета (из-за минимального эффекта и сложности с аргументацией)**"
   ]
  },
  {
   "cell_type": "markdown",
   "metadata": {},
   "source": [
    "## Исследование задачи"
   ]
  },
  {
   "cell_type": "markdown",
   "metadata": {},
   "source": [
    "**Изучим баланс классов:**"
   ]
  },
  {
   "cell_type": "code",
   "execution_count": 9,
   "metadata": {},
   "outputs": [
    {
     "name": "stdout",
     "output_type": "stream",
     "text": [
      "2037\n"
     ]
    },
    {
     "data": {
      "image/png": "[encoded data removed]",
      "text/plain": [
       "<Figure size 432x288 with 1 Axes>"
      ]
     },
     "metadata": {
      "needs_background": "light"
     },
     "output_type": "display_data"
    }
   ],
   "source": [
    "print(df.Exited.sum())\n",
    "ax = df.Exited.hist(bins =3)"
   ]
  },
  {
   "cell_type": "markdown",
   "metadata": {},
   "source": [
    "**Наблюдается значительный дисбаланс (хотя одна четверть ушедщих для банка озаначала бы, что поздно проводить анализ - пора закрывать банк). Очевидно, что он будет заметный эффект на качество модели. Тем не менее проведем обучение нескольких типов моделей и посмотрим какой показатель F1 будет достигнут.**"
   ]
  },
  {
   "cell_type": "code",
   "execution_count": 43,
   "metadata": {
    "scrolled": true
   },
   "outputs": [
    {
     "data": {
      "text/plain": [
       "0    0.7963\n",
       "1    0.2037\n",
       "Name: Exited, dtype: float64"
      ]
     },
     "execution_count": 43,
     "metadata": {},
     "output_type": "execute_result"
    }
   ],
   "source": [
    "df['Exited'].value_counts(normalize=True)"
   ]
  },
  {
   "cell_type": "markdown",
   "metadata": {},
   "source": [
    "**Соотношение классов с высокой точностью равно 4:1**"
   ]
  },
  {
   "cell_type": "markdown",
   "metadata": {},
   "source": [
    "Модель DecisionTree:"
   ]
  },
  {
   "cell_type": "code",
   "execution_count": 50,
   "metadata": {
    "scrolled": false
   },
   "outputs": [
    {
     "name": "stdout",
     "output_type": "stream",
     "text": [
      "depth= 5 F1_Score =  0.48550724637681164\n",
      "depth= 6 F1_Score =  0.5537459283387622\n",
      "depth= 7 F1_Score =  0.5832106038291606\n",
      "depth= 8 F1_Score =  0.5484351713859911\n",
      "depth= 9 F1_Score =  0.5441176470588235\n",
      "depth= 10 F1_Score =  0.5296671490593343\n",
      "depth= 11 F1_Score =  0.5084269662921348\n",
      "depth= 12 F1_Score =  0.5240641711229945\n",
      "depth= 13 F1_Score =  0.5274725274725274\n",
      "depth= 14 F1_Score =  0.502673796791444\n"
     ]
    }
   ],
   "source": [
    "for depth in range(5,15,1):\n",
    "    model = DecisionTreeClassifier(random_state=54321, max_depth = depth)\n",
    "    model.fit(features_train, target_train)\n",
    "    predict_valid = model.predict(features_valid)\n",
    "    print(\"depth=\", depth, \"F1_Score = \", f1_score(target_valid, predict_valid))"
   ]
  },
  {
   "cell_type": "code",
   "execution_count": 55,
   "metadata": {},
   "outputs": [
    {
     "data": {
      "text/html": [
       "<style>#sk-container-id-6 {color: black;background-color: white;}#sk-container-id-6 pre{padding: 0;}#sk-container-id-6 div.sk-toggleable {background-color: white;}#sk-container-id-6 label.sk-toggleable__label {cursor: pointer;display: block;width: 100%;margin-bottom: 0;padding: 0.3em;box-sizing: border-box;text-align: center;}#sk-container-id-6 label.sk-toggleable__label-arrow:before {content: \"▸\";float: left;margin-right: 0.25em;color: #696969;}#sk-container-id-6 label.sk-toggleable__label-arrow:hover:before {color: black;}#sk-container-id-6 div.sk-estimator:hover label.sk-toggleable__label-arrow:before {color: black;}#sk-container-id-6 div.sk-toggleable__content {max-height: 0;max-width: 0;overflow: hidden;text-align: left;background-color: #f0f8ff;}#sk-container-id-6 div.sk-toggleable__content pre {margin: 0.2em;color: black;border-radius: 0.25em;background-color: #f0f8ff;}#sk-container-id-6 input.sk-toggleable__control:checked~div.sk-toggleable__content {max-height: 200px;max-width: 100%;overflow: auto;}#sk-container-id-6 input.sk-toggleable__control:checked~label.sk-toggleable__label-arrow:before {content: \"▾\";}#sk-container-id-6 div.sk-estimator input.sk-toggleable__control:checked~label.sk-toggleable__label {background-color: #d4ebff;}#sk-container-id-6 div.sk-label input.sk-toggleable__control:checked~label.sk-toggleable__label {background-color: #d4ebff;}#sk-container-id-6 input.sk-hidden--visually {border: 0;clip: rect(1px 1px 1px 1px);clip: rect(1px, 1px, 1px, 1px);height: 1px;margin: -1px;overflow: hidden;padding: 0;position: absolute;width: 1px;}#sk-container-id-6 div.sk-estimator {font-family: monospace;background-color: #f0f8ff;border: 1px dotted black;border-radius: 0.25em;box-sizing: border-box;margin-bottom: 0.5em;}#sk-container-id-6 div.sk-estimator:hover {background-color: #d4ebff;}#sk-container-id-6 div.sk-parallel-item::after {content: \"\";width: 100%;border-bottom: 1px solid gray;flex-grow: 1;}#sk-container-id-6 div.sk-label:hover label.sk-toggleable__label {background-color: #d4ebff;}#sk-container-id-6 div.sk-serial::before {content: \"\";position: absolute;border-left: 1px solid gray;box-sizing: border-box;top: 0;bottom: 0;left: 50%;z-index: 0;}#sk-container-id-6 div.sk-serial {display: flex;flex-direction: column;align-items: center;background-color: white;padding-right: 0.2em;padding-left: 0.2em;position: relative;}#sk-container-id-6 div.sk-item {position: relative;z-index: 1;}#sk-container-id-6 div.sk-parallel {display: flex;align-items: stretch;justify-content: center;background-color: white;position: relative;}#sk-container-id-6 div.sk-item::before, #sk-container-id-6 div.sk-parallel-item::before {content: \"\";position: absolute;border-left: 1px solid gray;box-sizing: border-box;top: 0;bottom: 0;left: 50%;z-index: -1;}#sk-container-id-6 div.sk-parallel-item {display: flex;flex-direction: column;z-index: 1;position: relative;background-color: white;}#sk-container-id-6 div.sk-parallel-item:first-child::after {align-self: flex-end;width: 50%;}#sk-container-id-6 div.sk-parallel-item:last-child::after {align-self: flex-start;width: 50%;}#sk-container-id-6 div.sk-parallel-item:only-child::after {width: 0;}#sk-container-id-6 div.sk-dashed-wrapped {border: 1px dashed gray;margin: 0 0.4em 0.5em 0.4em;box-sizing: border-box;padding-bottom: 0.4em;background-color: white;}#sk-container-id-6 div.sk-label label {font-family: monospace;font-weight: bold;display: inline-block;line-height: 1.2em;}#sk-container-id-6 div.sk-label-container {text-align: center;}#sk-container-id-6 div.sk-container {/* jupyter's `normalize.less` sets `[hidden] { display: none; }` but bootstrap.min.css set `[hidden] { display: none !important; }` so we also need the `!important` here to be able to override the default hidden behavior on the sphinx rendered scikit-learn.org. See: https://github.com/scikit-learn/scikit-learn/issues/21755 */display: inline-block !important;position: relative;}#sk-container-id-6 div.sk-text-repr-fallback {display: none;}</style><div id=\"sk-container-id-6\" class=\"sk-top-container\"><div class=\"sk-text-repr-fallback\"><pre>DecisionTreeClassifier(max_depth=7, random_state=54321)</pre><b>In a Jupyter environment, please rerun this cell to show the HTML representation or trust the notebook. <br />On GitHub, the HTML representation is unable to render, please try loading this page with nbviewer.org.</b></div><div class=\"sk-container\" hidden><div class=\"sk-item\"><div class=\"sk-estimator sk-toggleable\"><input class=\"sk-toggleable__control sk-hidden--visually\" id=\"sk-estimator-id-6\" type=\"checkbox\" checked><label for=\"sk-estimator-id-6\" class=\"sk-toggleable__label sk-toggleable__label-arrow\">DecisionTreeClassifier</label><div class=\"sk-toggleable__content\"><pre>DecisionTreeClassifier(max_depth=7, random_state=54321)</pre></div></div></div></div></div>"
      ],
      "text/plain": [
       "DecisionTreeClassifier(max_depth=7, random_state=54321)"
      ]
     },
     "execution_count": 55,
     "metadata": {},
     "output_type": "execute_result"
    }
   ],
   "source": [
    "model = DecisionTreeClassifier(random_state=54321, max_depth = 7)\n",
    "model.fit(features_train, target_train)"
   ]
  },
  {
   "cell_type": "code",
   "execution_count": 56,
   "metadata": {},
   "outputs": [
    {
     "name": "stdout",
     "output_type": "stream",
     "text": [
      "AUC_ROC= 0.8245398437499999\n"
     ]
    }
   ],
   "source": [
    "probabilities_valid = model.predict_proba(features_valid)\n",
    "probabilities_one_valid = probabilities_valid[:, 1]\n",
    "auc_roc = roc_auc_score(target_valid, probabilities_one_valid)\n",
    "print(\"AUC_ROC=\", auc_roc)"
   ]
  },
  {
   "cell_type": "markdown",
   "metadata": {},
   "source": [
    "**При глубине дерева 7 получаем максимум f1_score: 0.583, AUC-ROC: 0.824**"
   ]
  },
  {
   "cell_type": "markdown",
   "metadata": {},
   "source": [
    "Модель RandomForest"
   ]
  },
  {
   "cell_type": "code",
   "execution_count": 48,
   "metadata": {
    "scrolled": false
   },
   "outputs": [
    {
     "name": "stdout",
     "output_type": "stream",
     "text": [
      "est= 80 depth= 12 F1_Score =  0.5755627009646302\n"
     ]
    }
   ],
   "source": [
    "f1_score_max=0\n",
    "for est in range(50, 90, 5):\n",
    "    for depth in range(1,15):\n",
    "        model = RandomForestClassifier(random_state=54321, n_estimators = est, max_depth=depth)\n",
    "        model.fit(features_train, target_train)\n",
    "        predict_valid = model.predict(features_valid)\n",
    "        if f1_score(target_valid, predict_valid) > f1_score_max:\n",
    "            f1_score_max = f1_score(target_valid, predict_valid)\n",
    "            est_max=est\n",
    "            depth_max = depth\n",
    "print(\"est=\", est_max, \"depth=\", depth_max,\"F1_Score = \", f1_score_max)"
   ]
  },
  {
   "cell_type": "code",
   "execution_count": 89,
   "metadata": {},
   "outputs": [
    {
     "data": {
      "text/html": [
       "<style>#sk-container-id-8 {color: black;background-color: white;}#sk-container-id-8 pre{padding: 0;}#sk-container-id-8 div.sk-toggleable {background-color: white;}#sk-container-id-8 label.sk-toggleable__label {cursor: pointer;display: block;width: 100%;margin-bottom: 0;padding: 0.3em;box-sizing: border-box;text-align: center;}#sk-container-id-8 label.sk-toggleable__label-arrow:before {content: \"▸\";float: left;margin-right: 0.25em;color: #696969;}#sk-container-id-8 label.sk-toggleable__label-arrow:hover:before {color: black;}#sk-container-id-8 div.sk-estimator:hover label.sk-toggleable__label-arrow:before {color: black;}#sk-container-id-8 div.sk-toggleable__content {max-height: 0;max-width: 0;overflow: hidden;text-align: left;background-color: #f0f8ff;}#sk-container-id-8 div.sk-toggleable__content pre {margin: 0.2em;color: black;border-radius: 0.25em;background-color: #f0f8ff;}#sk-container-id-8 input.sk-toggleable__control:checked~div.sk-toggleable__content {max-height: 200px;max-width: 100%;overflow: auto;}#sk-container-id-8 input.sk-toggleable__control:checked~label.sk-toggleable__label-arrow:before {content: \"▾\";}#sk-container-id-8 div.sk-estimator input.sk-toggleable__control:checked~label.sk-toggleable__label {background-color: #d4ebff;}#sk-container-id-8 div.sk-label input.sk-toggleable__control:checked~label.sk-toggleable__label {background-color: #d4ebff;}#sk-container-id-8 input.sk-hidden--visually {border: 0;clip: rect(1px 1px 1px 1px);clip: rect(1px, 1px, 1px, 1px);height: 1px;margin: -1px;overflow: hidden;padding: 0;position: absolute;width: 1px;}#sk-container-id-8 div.sk-estimator {font-family: monospace;background-color: #f0f8ff;border: 1px dotted black;border-radius: 0.25em;box-sizing: border-box;margin-bottom: 0.5em;}#sk-container-id-8 div.sk-estimator:hover {background-color: #d4ebff;}#sk-container-id-8 div.sk-parallel-item::after {content: \"\";width: 100%;border-bottom: 1px solid gray;flex-grow: 1;}#sk-container-id-8 div.sk-label:hover label.sk-toggleable__label {background-color: #d4ebff;}#sk-container-id-8 div.sk-serial::before {content: \"\";position: absolute;border-left: 1px solid gray;box-sizing: border-box;top: 0;bottom: 0;left: 50%;z-index: 0;}#sk-container-id-8 div.sk-serial {display: flex;flex-direction: column;align-items: center;background-color: white;padding-right: 0.2em;padding-left: 0.2em;position: relative;}#sk-container-id-8 div.sk-item {position: relative;z-index: 1;}#sk-container-id-8 div.sk-parallel {display: flex;align-items: stretch;justify-content: center;background-color: white;position: relative;}#sk-container-id-8 div.sk-item::before, #sk-container-id-8 div.sk-parallel-item::before {content: \"\";position: absolute;border-left: 1px solid gray;box-sizing: border-box;top: 0;bottom: 0;left: 50%;z-index: -1;}#sk-container-id-8 div.sk-parallel-item {display: flex;flex-direction: column;z-index: 1;position: relative;background-color: white;}#sk-container-id-8 div.sk-parallel-item:first-child::after {align-self: flex-end;width: 50%;}#sk-container-id-8 div.sk-parallel-item:last-child::after {align-self: flex-start;width: 50%;}#sk-container-id-8 div.sk-parallel-item:only-child::after {width: 0;}#sk-container-id-8 div.sk-dashed-wrapped {border: 1px dashed gray;margin: 0 0.4em 0.5em 0.4em;box-sizing: border-box;padding-bottom: 0.4em;background-color: white;}#sk-container-id-8 div.sk-label label {font-family: monospace;font-weight: bold;display: inline-block;line-height: 1.2em;}#sk-container-id-8 div.sk-label-container {text-align: center;}#sk-container-id-8 div.sk-container {/* jupyter's `normalize.less` sets `[hidden] { display: none; }` but bootstrap.min.css set `[hidden] { display: none !important; }` so we also need the `!important` here to be able to override the default hidden behavior on the sphinx rendered scikit-learn.org. See: https://github.com/scikit-learn/scikit-learn/issues/21755 */display: inline-block !important;position: relative;}#sk-container-id-8 div.sk-text-repr-fallback {display: none;}</style><div id=\"sk-container-id-8\" class=\"sk-top-container\"><div class=\"sk-text-repr-fallback\"><pre>RandomForestClassifier(max_depth=12, n_estimators=80, random_state=54321)</pre><b>In a Jupyter environment, please rerun this cell to show the HTML representation or trust the notebook. <br />On GitHub, the HTML representation is unable to render, please try loading this page with nbviewer.org.</b></div><div class=\"sk-container\" hidden><div class=\"sk-item\"><div class=\"sk-estimator sk-toggleable\"><input class=\"sk-toggleable__control sk-hidden--visually\" id=\"sk-estimator-id-8\" type=\"checkbox\" checked><label for=\"sk-estimator-id-8\" class=\"sk-toggleable__label sk-toggleable__label-arrow\">RandomForestClassifier</label><div class=\"sk-toggleable__content\"><pre>RandomForestClassifier(max_depth=12, n_estimators=80, random_state=54321)</pre></div></div></div></div></div>"
      ],
      "text/plain": [
       "RandomForestClassifier(max_depth=12, n_estimators=80, random_state=54321)"
      ]
     },
     "execution_count": 89,
     "metadata": {},
     "output_type": "execute_result"
    }
   ],
   "source": [
    "model = RandomForestClassifier(random_state=54321, n_estimators = 80, max_depth=12)\n",
    "model.fit(features_train, target_train)"
   ]
  },
  {
   "cell_type": "code",
   "execution_count": 90,
   "metadata": {},
   "outputs": [
    {
     "name": "stdout",
     "output_type": "stream",
     "text": [
      "AUC_ROC= 0.855875\n"
     ]
    }
   ],
   "source": [
    "probabilities_valid = model.predict_proba(features_valid)\n",
    "probabilities_one_valid = probabilities_valid[:, 1]\n",
    "auc_roc = roc_auc_score(target_valid, probabilities_one_valid)\n",
    "print(\"AUC_ROC=\", auc_roc)"
   ]
  },
  {
   "cell_type": "markdown",
   "metadata": {},
   "source": [
    "**При множестве решающих деревьев 80 и глубине 12 получаем 0.575, AUC-ROC: 0.856**"
   ]
  },
  {
   "cell_type": "markdown",
   "metadata": {},
   "source": [
    "Модель LogisticRegression:"
   ]
  },
  {
   "cell_type": "code",
   "execution_count": 59,
   "metadata": {},
   "outputs": [
    {
     "name": "stdout",
     "output_type": "stream",
     "text": [
      "F1_Score =  0.3013698630136986\n"
     ]
    }
   ],
   "source": [
    "model = LogisticRegression(random_state=54321)\n",
    "model.fit(features_train, target_train)\n",
    "predict_valid = model.predict(features_valid)\n",
    "print(\"F1_Score = \", f1_score(target_valid, predict_valid))"
   ]
  },
  {
   "cell_type": "code",
   "execution_count": 60,
   "metadata": {},
   "outputs": [
    {
     "name": "stdout",
     "output_type": "stream",
     "text": [
      "AUC_ROC= 0.7810515624999999\n"
     ]
    }
   ],
   "source": [
    "probabilities_valid = model.predict_proba(features_valid)\n",
    "probabilities_one_valid = probabilities_valid[:, 1]\n",
    "auc_roc = roc_auc_score(target_valid, probabilities_one_valid)\n",
    "print(\"AUC_ROC=\", auc_roc)"
   ]
  },
  {
   "cell_type": "markdown",
   "metadata": {},
   "source": [
    "**F1_score: 0.3, AUC-ROC: 0.781**"
   ]
  },
  {
   "cell_type": "markdown",
   "metadata": {},
   "source": [
    "## Борьба с дисбалансом"
   ]
  },
  {
   "cell_type": "markdown",
   "metadata": {},
   "source": [
    "**Как уже было отмечено, в данных наблюдается большой дисбаланс классов. Применим разные методики для их уравнивания и посмотрим как это повлияет на качество модели.**"
   ]
  },
  {
   "cell_type": "markdown",
   "metadata": {},
   "source": [
    "Начнем с варианта upsample (то есть увеличения числа элементов меньшого по количеству класса):"
   ]
  },
  {
   "cell_type": "code",
   "execution_count": 62,
   "metadata": {},
   "outputs": [],
   "source": [
    "def upsample(features, target, repeat):\n",
    "    features_zeros = features[target == 0]\n",
    "    features_ones = features[target == 1]\n",
    "    target_zeros = target[target == 0]\n",
    "    target_ones = target[target == 1]\n",
    "    features_upsampled = pd.concat([features_zeros] + [features_ones] * repeat)\n",
    "    target_upsampled = pd.concat([target_zeros] + [target_ones] * repeat)\n",
    "    features_upsampled, target_upsampled = shuffle(features_upsampled, target_upsampled, random_state=12345)\n",
    "    return features_upsampled, target_upsampled"
   ]
  },
  {
   "cell_type": "markdown",
   "metadata": {},
   "source": [
    "**Создадим набор данных с помощью функции upsample, уровняв размер классов (как мы помним они соотносились друг к другу как 4:1):**"
   ]
  },
  {
   "cell_type": "code",
   "execution_count": 93,
   "metadata": {
    "scrolled": true
   },
   "outputs": [
    {
     "data": {
      "text/plain": [
       "1    0.503113\n",
       "0    0.496887\n",
       "Name: Exited, dtype: float64"
      ]
     },
     "execution_count": 93,
     "metadata": {},
     "output_type": "execute_result"
    }
   ],
   "source": [
    "features_upsampled, target_upsampled = upsample(features_train, target_train, 4)\n",
    "target_upsampled.value_counts(normalize=True)"
   ]
  },
  {
   "cell_type": "markdown",
   "metadata": {},
   "source": [
    "**Как мы видим баланс классов налажен**"
   ]
  },
  {
   "cell_type": "code",
   "execution_count": 83,
   "metadata": {
    "scrolled": true
   },
   "outputs": [
    {
     "name": "stdout",
     "output_type": "stream",
     "text": [
      "depth= 5 F1_Score =  0.5448504983388703\n",
      "depth= 6 F1_Score =  0.5512489233419466\n",
      "depth= 7 F1_Score =  0.5541706615532119\n",
      "depth= 8 F1_Score =  0.559498956158664\n",
      "depth= 9 F1_Score =  0.5414480587618048\n",
      "depth= 10 F1_Score =  0.534446764091858\n",
      "depth= 11 F1_Score =  0.5254054054054054\n",
      "depth= 12 F1_Score =  0.5198711063372718\n",
      "depth= 13 F1_Score =  0.5113636363636364\n",
      "depth= 14 F1_Score =  0.5011655011655012\n"
     ]
    }
   ],
   "source": [
    "for depth in range(5,15,1):\n",
    "    model_1_u = DecisionTreeClassifier(random_state=54321, max_depth = depth)\n",
    "    model_1_u.fit(features_upsampled, target_upsampled )\n",
    "    predict_valid = model_1_u.predict(features_valid)\n",
    "    print(\"depth=\", depth,\"F1_Score = \", f1_score(target_valid, predict_valid))"
   ]
  },
  {
   "cell_type": "code",
   "execution_count": 85,
   "metadata": {},
   "outputs": [
    {
     "name": "stdout",
     "output_type": "stream",
     "text": [
      "AUC_ROC= 0.80518359375\n"
     ]
    }
   ],
   "source": [
    "model_1_u = DecisionTreeClassifier(random_state=54321, max_depth = 8)\n",
    "model_1_u.fit(features_upsampled, target_upsampled )\n",
    "probabilities_valid = model_1_u.predict_proba(features_valid)\n",
    "probabilities_one_valid = probabilities_valid[:, 1]\n",
    "auc_roc = roc_auc_score(target_valid, probabilities_one_valid)\n",
    "print(\"AUC_ROC=\", auc_roc)"
   ]
  },
  {
   "cell_type": "markdown",
   "metadata": {},
   "source": [
    "**Методом подбора получаем, что при увелчиении меньшей выборки мы получаем снижение показателя f1-score - 0.559 vs 0.583, значение  AUC-ROC  также снизилось - 0.805 было 0.824**"
   ]
  },
  {
   "cell_type": "code",
   "execution_count": 86,
   "metadata": {
    "scrolled": true
   },
   "outputs": [
    {
     "name": "stdout",
     "output_type": "stream",
     "text": [
      "est= 80 depth= 14 F1_Score =  0.6288659793814433\n"
     ]
    }
   ],
   "source": [
    "f1_score_max=0\n",
    "for est in range(50, 90, 5):\n",
    "    for depth in range(1,15):\n",
    "        model_2_u = RandomForestClassifier(random_state=54321, n_estimators = est, max_depth=depth)\n",
    "        model_2_u.fit(features_upsampled, target_upsampled)\n",
    "        predict_valid = model_2_u.predict(features_valid)\n",
    "        if f1_score(target_valid, predict_valid) > f1_score_max:\n",
    "            f1_score_max = f1_score(target_valid, predict_valid)\n",
    "            est_max=est\n",
    "            depth_max = depth\n",
    "print(\"est=\", est_max, \"depth=\", depth_max,\"F1_Score = \", f1_score_max)"
   ]
  },
  {
   "cell_type": "code",
   "execution_count": 88,
   "metadata": {},
   "outputs": [
    {
     "name": "stdout",
     "output_type": "stream",
     "text": [
      "AUC_ROC= 0.8525757812499999\n"
     ]
    }
   ],
   "source": [
    "model_2_u = RandomForestClassifier(random_state=54321, n_estimators = 80, max_depth=14)\n",
    "model_2_u.fit(features_upsampled, target_upsampled )\n",
    "probabilities_valid = model_2_u.predict_proba(features_valid)\n",
    "probabilities_one_valid = probabilities_valid[:, 1]\n",
    "auc_roc = roc_auc_score(target_valid, probabilities_one_valid)\n",
    "print(\"AUC_ROC=\", auc_roc)"
   ]
  },
  {
   "cell_type": "markdown",
   "metadata": {},
   "source": [
    "**При 80 деревьях и глубине 14 метрика 0.628. Различимый рост. Значение AUC-ROC почти не изменилось 0.853, было 0.855**"
   ]
  },
  {
   "cell_type": "code",
   "execution_count": 91,
   "metadata": {},
   "outputs": [
    {
     "name": "stdout",
     "output_type": "stream",
     "text": [
      "F1_Score =  0.5139372822299653\n"
     ]
    }
   ],
   "source": [
    "model = LogisticRegression(random_state=54321)\n",
    "model.fit(features_upsampled, target_upsampled )\n",
    "predict_valid = model.predict(features_valid)\n",
    "print(\"F1_Score = \", f1_score(target_valid, predict_valid))"
   ]
  },
  {
   "cell_type": "code",
   "execution_count": 92,
   "metadata": {},
   "outputs": [
    {
     "name": "stdout",
     "output_type": "stream",
     "text": [
      "AUC_ROC= 0.785159375\n"
     ]
    }
   ],
   "source": [
    "probabilities_valid = model.predict_proba(features_valid)\n",
    "probabilities_one_valid = probabilities_valid[:, 1]\n",
    "auc_roc = roc_auc_score(target_valid, probabilities_one_valid)\n",
    "print(\"AUC_ROC=\", auc_roc)"
   ]
  },
  {
   "cell_type": "markdown",
   "metadata": {},
   "source": [
    "**В случае с логистической регрессией значительный рост обоих показателей**"
   ]
  },
  {
   "cell_type": "markdown",
   "metadata": {},
   "source": [
    "**Логистическая регрессия показывает по прежнему парадоксально низкий результат**"
   ]
  },
  {
   "cell_type": "markdown",
   "metadata": {},
   "source": [
    "**Следующий вариант - уменьшение большого класса - downsample:**"
   ]
  },
  {
   "cell_type": "code",
   "execution_count": 97,
   "metadata": {},
   "outputs": [],
   "source": [
    "def downsample(features, target, fraction):\n",
    "    features_zeros = features[target == 0]\n",
    "    features_ones = features[target == 1]\n",
    "    target_zeros = target[target == 0]\n",
    "    target_ones = target[target == 1]\n",
    "    features_downsampled = pd.concat(\n",
    "        [features_zeros.sample(frac=fraction, random_state=12345)] + [features_ones])\n",
    "    target_downsampled = pd.concat(\n",
    "        [target_zeros.sample(frac=fraction, random_state=12345)] + [target_ones])\n",
    "    features_downsampled, target_downsampled = shuffle(\n",
    "        features_downsampled, target_downsampled, random_state=12345)\n",
    "    return features_downsampled, target_downsampled"
   ]
  },
  {
   "cell_type": "markdown",
   "metadata": {},
   "source": [
    "**проводим уменьшение большого класса и проверяем полученный баланс:**"
   ]
  },
  {
   "cell_type": "code",
   "execution_count": 98,
   "metadata": {
    "scrolled": false
   },
   "outputs": [
    {
     "data": {
      "text/plain": [
       "1    0.503113\n",
       "0    0.496887\n",
       "Name: Exited, dtype: float64"
      ]
     },
     "execution_count": 98,
     "metadata": {},
     "output_type": "execute_result"
    }
   ],
   "source": [
    "features_downsampled, target_downsampled = downsample(features_train, target_train, 0.25)\n",
    "target_downsampled.value_counts(normalize=True)"
   ]
  },
  {
   "cell_type": "code",
   "execution_count": 100,
   "metadata": {
    "scrolled": true
   },
   "outputs": [
    {
     "name": "stdout",
     "output_type": "stream",
     "text": [
      "depth= 5 F1_Score =  0.5292207792207791\n",
      "depth= 6 F1_Score =  0.5487179487179488\n",
      "depth= 7 F1_Score =  0.5488029465930018\n",
      "depth= 8 F1_Score =  0.5237683664649957\n",
      "depth= 9 F1_Score =  0.5469767441860465\n",
      "depth= 10 F1_Score =  0.5067567567567567\n",
      "depth= 11 F1_Score =  0.5117967332123412\n",
      "depth= 12 F1_Score =  0.49739130434782614\n",
      "depth= 13 F1_Score =  0.4885764499121265\n",
      "depth= 14 F1_Score =  0.4866785079928952\n"
     ]
    }
   ],
   "source": [
    "for depth in range(5,15,1):\n",
    "    model_2_d = DecisionTreeClassifier(random_state=54321, max_depth = depth)\n",
    "    model_2_d.fit(features_downsampled, target_downsampled)\n",
    "    predict_valid = model_2_d.predict(features_valid)\n",
    "    print(\"depth=\", depth,\"F1_Score = \", f1_score(target_valid, predict_valid))"
   ]
  },
  {
   "cell_type": "code",
   "execution_count": 101,
   "metadata": {},
   "outputs": [
    {
     "name": "stdout",
     "output_type": "stream",
     "text": [
      "AUC_ROC= 0.833840625\n"
     ]
    }
   ],
   "source": [
    "model_2_d = DecisionTreeClassifier(random_state=54321, max_depth = 6)\n",
    "model_2_d.fit(features_downsampled, target_downsampled)\n",
    "probabilities_valid = model_2_d.predict_proba(features_valid)\n",
    "probabilities_one_valid = probabilities_valid[:, 1]\n",
    "auc_roc = roc_auc_score(target_valid, probabilities_one_valid)\n",
    "print(\"AUC_ROC=\", auc_roc)"
   ]
  },
  {
   "cell_type": "markdown",
   "metadata": {},
   "source": [
    "**При уменьшении в 4 раза большого класса и подборе глубины дерева получаем достойные f1_score: 0.548 при глубине 6 и 7, значение AUC_ROC = 0.833**"
   ]
  },
  {
   "cell_type": "code",
   "execution_count": 102,
   "metadata": {
    "scrolled": false
   },
   "outputs": [
    {
     "name": "stdout",
     "output_type": "stream",
     "text": [
      "est= 75 depth= 9 F1_Score =  0.5941747572815534\n"
     ]
    }
   ],
   "source": [
    "f1_score_max=0\n",
    "for est in range(50, 90, 5):\n",
    "    for depth in range(1,15):\n",
    "        model_2_d = RandomForestClassifier(random_state=54321, n_estimators = est, max_depth=depth)\n",
    "        model_2_d.fit(features_downsampled, target_downsampled)\n",
    "        predict_valid = model_2_d.predict(features_valid)\n",
    "        if f1_score(target_valid, predict_valid) > f1_score_max:\n",
    "            f1_score_max = f1_score(target_valid, predict_valid)\n",
    "            est_max=est\n",
    "            depth_max = depth\n",
    "print(\"est=\", est_max, \"depth=\", depth_max,\"F1_Score = \", f1_score_max)"
   ]
  },
  {
   "cell_type": "code",
   "execution_count": 103,
   "metadata": {},
   "outputs": [
    {
     "name": "stdout",
     "output_type": "stream",
     "text": [
      "AUC_ROC= 0.8620156250000001\n"
     ]
    }
   ],
   "source": [
    "model_2_d = RandomForestClassifier(random_state=54321, n_estimators = 75, max_depth=9)\n",
    "model_2_d.fit(features_downsampled, target_downsampled )\n",
    "probabilities_valid = model_2_d.predict_proba(features_valid)\n",
    "probabilities_one_valid = probabilities_valid[:, 1]\n",
    "auc_roc = roc_auc_score(target_valid, probabilities_one_valid)\n",
    "print(\"AUC_ROC=\", auc_roc)"
   ]
  },
  {
   "cell_type": "markdown",
   "metadata": {},
   "source": [
    "**Достигнут результат 0.594 при  числе  деревьев 75 и глубине 9, AUC_ROC - 0.86** "
   ]
  },
  {
   "cell_type": "code",
   "execution_count": 104,
   "metadata": {
    "scrolled": true
   },
   "outputs": [
    {
     "name": "stdout",
     "output_type": "stream",
     "text": [
      "F1_Score =  0.5017241379310344\n",
      "AUC_ROC= 0.7843046875\n"
     ]
    }
   ],
   "source": [
    "model_2_d = LogisticRegression(random_state=54321)\n",
    "model_2_d.fit(features_downsampled, target_downsampled)\n",
    "predict_valid = model_2_d.predict(features_valid)\n",
    "print(\"F1_Score = \", f1_score(target_valid, predict_valid))\n",
    "probabilities_valid = model_2_d.predict_proba(features_valid)\n",
    "probabilities_one_valid = probabilities_valid[:, 1]\n",
    "auc_roc = roc_auc_score(target_valid, probabilities_one_valid)\n",
    "print(\"AUC_ROC=\", auc_roc)"
   ]
  },
  {
   "cell_type": "markdown",
   "metadata": {},
   "source": [
    "Лучшие показатели существенно хуже других моделей"
   ]
  },
  {
   "cell_type": "markdown",
   "metadata": {},
   "source": [
    "**Соберем данные в таблички, чтобы как-то систематизировать результаты проведенных исследований:**"
   ]
  },
  {
   "cell_type": "code",
   "execution_count": 106,
   "metadata": {},
   "outputs": [
    {
     "data": {
      "text/html": [
       "<div>\n",
       "<style scoped>\n",
       "    .dataframe tbody tr th:only-of-type {\n",
       "        vertical-align: middle;\n",
       "    }\n",
       "\n",
       "    .dataframe tbody tr th {\n",
       "        vertical-align: top;\n",
       "    }\n",
       "\n",
       "    .dataframe thead th {\n",
       "        text-align: right;\n",
       "    }\n",
       "</style>\n",
       "<table border=\"1\" class=\"dataframe\">\n",
       "  <thead>\n",
       "    <tr style=\"text-align: right;\">\n",
       "      <th></th>\n",
       "      <th>Type</th>\n",
       "      <th>original</th>\n",
       "      <th>original.1</th>\n",
       "      <th>upsample</th>\n",
       "      <th>upsample.1</th>\n",
       "      <th>downsample</th>\n",
       "      <th>downsample.1</th>\n",
       "    </tr>\n",
       "  </thead>\n",
       "  <tbody>\n",
       "    <tr>\n",
       "      <th>0</th>\n",
       "      <td>parametr -&gt;</td>\n",
       "      <td>F1_score</td>\n",
       "      <td>AUC-ROC</td>\n",
       "      <td>F1_score</td>\n",
       "      <td>AUC-ROC</td>\n",
       "      <td>F1_score</td>\n",
       "      <td>AUC-ROC</td>\n",
       "    </tr>\n",
       "    <tr>\n",
       "      <th>1</th>\n",
       "      <td>DecisionTreeClassifier</td>\n",
       "      <td>0.583</td>\n",
       "      <td>0.824</td>\n",
       "      <td>0.559</td>\n",
       "      <td>0.805</td>\n",
       "      <td>0.548</td>\n",
       "      <td>0.833</td>\n",
       "    </tr>\n",
       "    <tr>\n",
       "      <th>2</th>\n",
       "      <td>RandomForestClassifier</td>\n",
       "      <td>0.575</td>\n",
       "      <td>0.856</td>\n",
       "      <td>0.628</td>\n",
       "      <td>0.852</td>\n",
       "      <td>0.594</td>\n",
       "      <td>0.862</td>\n",
       "    </tr>\n",
       "    <tr>\n",
       "      <th>3</th>\n",
       "      <td>LogisticRegression</td>\n",
       "      <td>0.301</td>\n",
       "      <td>0.781</td>\n",
       "      <td>0.514</td>\n",
       "      <td>0.785</td>\n",
       "      <td>0.501</td>\n",
       "      <td>0.784</td>\n",
       "    </tr>\n",
       "  </tbody>\n",
       "</table>\n",
       "</div>"
      ],
      "text/plain": [
       "                     Type  original original.1  upsample upsample.1  \\\n",
       "0             parametr ->  F1_score    AUC-ROC  F1_score    AUC-ROC   \n",
       "1  DecisionTreeClassifier     0.583      0.824     0.559      0.805   \n",
       "2  RandomForestClassifier     0.575      0.856     0.628      0.852   \n",
       "3      LogisticRegression     0.301      0.781     0.514      0.785   \n",
       "\n",
       "  downsample downsample.1  \n",
       "0   F1_score      AUC-ROC  \n",
       "1      0.548        0.833  \n",
       "2      0.594        0.862  \n",
       "3      0.501        0.784  "
      ]
     },
     "execution_count": 106,
     "metadata": {},
     "output_type": "execute_result"
    }
   ],
   "source": [
    "#df = pd.read_excel('book.xlsx')\n",
    "#df.drop(['Unnamed: 0'], axis=1)"
   ]
  },
  {
   "cell_type": "markdown",
   "metadata": {},
   "source": [
    "**На основе этих опытом, можно сделать вывод, что как увеличение меньшего класса, так и уменьшение большого могут дать положительный результат и повысить качество модели. Наилучшей моделью можно признать случайный лес с увеличением класса, 80 деревьях и глубиной 14.**"
   ]
  },
  {
   "cell_type": "markdown",
   "metadata": {},
   "source": [
    "## Тестирование модели"
   ]
  },
  {
   "cell_type": "markdown",
   "metadata": {},
   "source": [
    "**Проведем тестирование модели на тестовой выборке (которая не использовалась при валидации и обучении модели). Сперва возьмем нужную модель, с нужными параметрами и проверим, что это она.**"
   ]
  },
  {
   "cell_type": "code",
   "execution_count": 110,
   "metadata": {},
   "outputs": [
    {
     "name": "stdout",
     "output_type": "stream",
     "text": [
      "F1_Score =  0.6288659793814433\n"
     ]
    }
   ],
   "source": [
    "model_2_u = RandomForestClassifier(random_state=54321, n_estimators = 80, max_depth=14)\n",
    "model_2_u.fit(features_upsampled, target_upsampled )\n",
    "predict_valid = model_2_u.predict(features_valid)\n",
    "print(\"F1_Score = \", f1_score(target_valid, predict_valid))"
   ]
  },
  {
   "cell_type": "markdown",
   "metadata": {},
   "source": [
    "**Теперь переобучим модель с данными гиперпараметрами, используя больший набор данных - а именно объединнунную обучающую и валидирующую выборк**"
   ]
  },
  {
   "cell_type": "code",
   "execution_count": 26,
   "metadata": {
    "scrolled": true
   },
   "outputs": [
    {
     "data": {
      "text/plain": [
       "RandomForestClassifier(n_estimators=85, random_state=54321)"
      ]
     },
     "execution_count": 26,
     "metadata": {},
     "output_type": "execute_result"
    }
   ],
   "source": [
    "# Код ревьюера\n",
    "model_2_d"
   ]
  },
  {
   "cell_type": "raw",
   "metadata": {},
   "source": [
    "features_full_train = pd.concat([features_train, features_valid])\n",
    "target_full_train = pd.concat([target_train, target_valid])\n",
    "features_upsampled, target_upsampled = upsample(features_full_train, target_full_train, 4)"
   ]
  },
  {
   "cell_type": "code",
   "execution_count": 114,
   "metadata": {},
   "outputs": [],
   "source": [
    "features_full_train = pd.concat([features_train, features_valid])\n",
    "target_full_train = pd.concat([target_train, target_valid])\n",
    "features_upsampled, target_upsampled = upsample(features_full_train, target_full_train, 4)"
   ]
  },
  {
   "cell_type": "code",
   "execution_count": 121,
   "metadata": {},
   "outputs": [
    {
     "name": "stdout",
     "output_type": "stream",
     "text": [
      "F1_Score =  0.634032634032634\n"
     ]
    }
   ],
   "source": [
    "model_2_u = RandomForestClassifier(random_state=54321, n_estimators = 80, max_depth=14)\n",
    "model_2_u.fit(features_upsampled, target_upsampled )\n",
    "predict_test = model_2_u.predict(features_test)\n",
    "print(\"F1_Score = \", f1_score(target_test, predict_test))"
   ]
  },
  {
   "cell_type": "markdown",
   "metadata": {},
   "source": [
    "**Результат более чем достойный и соответствует требуемым в задании значениям**"
   ]
  },
  {
   "cell_type": "markdown",
   "metadata": {},
   "source": [
    "**Рассмотрим метрику AUC-ROC и поведение ROC кривой**"
   ]
  },
  {
   "cell_type": "code",
   "execution_count": 124,
   "metadata": {},
   "outputs": [
    {
     "name": "stdout",
     "output_type": "stream",
     "text": [
      "AUC_ROC= 0.8612063492063492\n"
     ]
    }
   ],
   "source": [
    "probabilities_test = model_2_u.predict_proba(features_test)\n",
    "probabilities_one_test = probabilities_test[:, 1]\n",
    "auc_roc = roc_auc_score(target_test, probabilities_one_test)\n",
    "print(\"AUC_ROC=\", auc_roc)"
   ]
  },
  {
   "cell_type": "code",
   "execution_count": 125,
   "metadata": {},
   "outputs": [
    {
     "data": {
      "image/png": "[encoded data removed]",
      "text/plain": [
       "<Figure size 640x480 with 1 Axes>"
      ]
     },
     "metadata": {},
     "output_type": "display_data"
    }
   ],
   "source": [
    "fpr, tpr, thresholds = roc_curve(target_test, probabilities_one_test ) \n",
    "plt.figure()\n",
    "plt.plot(fpr, tpr, linestyle='--')\n",
    "plt.plot([0, 1], [0, 1], linestyle='--')\n",
    "plt.xlim([0,1])\n",
    "plt.ylim([0,1])\n",
    "plt.xlabel(\"False Positive Rate\")\n",
    "plt.ylabel(\"True Positive Rate\")\n",
    "plt.title(\"ROC-кривая\")\n",
    "plt.show()"
   ]
  },
  {
   "cell_type": "markdown",
   "metadata": {},
   "source": [
    "**На основании вида ROC-кривой можно сделать вывод что модель дает хорошие показатели в предсказании.  С учетом того, что задача в предсказании вероятности ухода клиента из банка, то для коммуникации с клиентами из рисковой зоны стоит выбирать порог с максимизацией TPR - то есть максимум recall показателя, а в случае экономических оценок - мксимизацией precision.**"
   ]
  },
  {
   "cell_type": "markdown",
   "metadata": {},
   "source": [
    "## Вывод"
   ]
  },
  {
   "cell_type": "markdown",
   "metadata": {},
   "source": [
    "**В ходе этой работы были изучены исторические данные о взаимодййствии банка и клиентов, включающие информацию об уходе клиентов из банка. Была поставлена задача спрогнозировать возможность ухода клиенты из банка исходя из имеющихся данных. Предоставленные данные были загружены и подготовлены для обучения моделей, а именно: категориальные данные были разбиты на колонки с численными значениями (флагами), были отброшены не информатиыные (для обучения моделей) колонки. Проведена стандартизация численных значений. После чего данные были разбиты на целевые и предсказательные и было проведено обучение моделей трех типов, с целей подбора оптимальных гиперпараметров и выбора наилучшей модели. Такое же исследование было проведено с данными после операции балансировки классов - увеличения меньшего класса и уменьшения большого. В результате была выбрана наилучшая модель и ее гиперпараметры. Выбор осуществлялся по максимизации метрики F1_score (среднее гармоническое полноты и точности). Также качество модели оценивалось построением ROC кривой - с ее помощью можно выбрать порог для приоритизации полноты или точности предсказания модели. \n",
    "Полученный показатель F1_Score =  0.634. А значени показателя AUC-ROC= 0.861 говорит, что наша модель существенно лучше случайной.\n",
    "Итак, поставленная задача в целом решена - найдена модель, которая позволит выявить \"группу\" риска среди клиентов банка и провести упреждающие действия для снижения риска их потери.**\n"
   ]
  },
  {
   "cell_type": "code",
   "execution_count": null,
   "metadata": {},
   "outputs": [],
   "source": []
  }
 ],
 "metadata": {
  "ExecuteTimeLog": [
   {
    "duration": 1446,
    "start_time": "2022-11-22T12:16:52.437Z"
   },
   {
    "duration": 168,
    "start_time": "2022-11-22T12:16:53.885Z"
   },
   {
    "duration": 173,
    "start_time": "2022-11-22T12:17:08.551Z"
   },
   {
    "duration": 41,
    "start_time": "2022-11-22T12:17:11.021Z"
   },
   {
    "duration": 5,
    "start_time": "2022-11-22T14:14:37.245Z"
   },
   {
    "duration": 78,
    "start_time": "2022-11-22T14:17:08.440Z"
   },
   {
    "duration": 8,
    "start_time": "2022-11-22T14:17:14.544Z"
   },
   {
    "duration": 24,
    "start_time": "2022-11-22T14:19:29.459Z"
   },
   {
    "duration": 22,
    "start_time": "2022-11-22T14:20:04.301Z"
   },
   {
    "duration": 5,
    "start_time": "2022-11-22T14:21:14.245Z"
   },
   {
    "duration": 72,
    "start_time": "2022-11-22T14:22:00.379Z"
   },
   {
    "duration": 7,
    "start_time": "2022-11-22T14:22:41.593Z"
   },
   {
    "duration": 137,
    "start_time": "2022-11-22T14:37:10.126Z"
   },
   {
    "duration": 1465,
    "start_time": "2022-11-22T17:52:49.214Z"
   },
   {
    "duration": 80,
    "start_time": "2022-11-22T17:52:50.681Z"
   },
   {
    "duration": 31,
    "start_time": "2022-11-22T17:52:50.763Z"
   },
   {
    "duration": 6,
    "start_time": "2022-11-22T17:53:33.638Z"
   },
   {
    "duration": 5,
    "start_time": "2022-11-22T17:53:38.267Z"
   },
   {
    "duration": 24,
    "start_time": "2022-11-22T17:53:40.530Z"
   },
   {
    "duration": 5,
    "start_time": "2022-11-22T17:53:45.195Z"
   },
   {
    "duration": 7,
    "start_time": "2022-11-22T17:53:51.820Z"
   },
   {
    "duration": 127,
    "start_time": "2022-11-22T17:53:56.413Z"
   },
   {
    "duration": 122,
    "start_time": "2022-11-22T17:58:35.518Z"
   },
   {
    "duration": 18,
    "start_time": "2022-11-22T17:58:50.654Z"
   },
   {
    "duration": 3,
    "start_time": "2022-11-22T17:59:40.804Z"
   },
   {
    "duration": 38,
    "start_time": "2022-11-22T17:59:40.951Z"
   },
   {
    "duration": 26,
    "start_time": "2022-11-22T17:59:41.773Z"
   },
   {
    "duration": 6,
    "start_time": "2022-11-22T17:59:45.973Z"
   },
   {
    "duration": 5,
    "start_time": "2022-11-22T17:59:49.550Z"
   },
   {
    "duration": 21,
    "start_time": "2022-11-22T18:00:22.077Z"
   },
   {
    "duration": 5,
    "start_time": "2022-11-22T18:00:28.030Z"
   },
   {
    "duration": 5,
    "start_time": "2022-11-22T18:00:31.068Z"
   },
   {
    "duration": 108,
    "start_time": "2022-11-22T18:00:33.686Z"
   },
   {
    "duration": 276,
    "start_time": "2022-11-22T18:00:37.101Z"
   },
   {
    "duration": 55,
    "start_time": "2022-11-22T18:02:14.411Z"
   },
   {
    "duration": 4342,
    "start_time": "2022-11-22T18:02:20.287Z"
   },
   {
    "duration": 9108,
    "start_time": "2022-11-22T18:04:26.182Z"
   },
   {
    "duration": 4304,
    "start_time": "2022-11-22T18:04:50.970Z"
   },
   {
    "duration": 9,
    "start_time": "2022-11-22T18:06:11.013Z"
   },
   {
    "duration": 3,
    "start_time": "2022-11-22T18:07:45.472Z"
   },
   {
    "duration": 613,
    "start_time": "2022-11-22T18:07:51.493Z"
   },
   {
    "duration": 473,
    "start_time": "2022-11-22T18:19:19.925Z"
   },
   {
    "duration": 541,
    "start_time": "2022-11-22T18:20:03.065Z"
   },
   {
    "duration": 13,
    "start_time": "2022-11-22T18:23:19.885Z"
   },
   {
    "duration": 4,
    "start_time": "2022-11-22T18:23:23.203Z"
   },
   {
    "duration": 53,
    "start_time": "2022-11-22T18:23:24.055Z"
   },
   {
    "duration": 40,
    "start_time": "2022-11-22T18:24:09.303Z"
   },
   {
    "duration": 38,
    "start_time": "2022-11-22T18:24:13.684Z"
   },
   {
    "duration": 43,
    "start_time": "2022-11-22T18:24:16.478Z"
   },
   {
    "duration": 39,
    "start_time": "2022-11-22T18:24:19.349Z"
   },
   {
    "duration": 36,
    "start_time": "2022-11-22T18:24:27.179Z"
   },
   {
    "duration": 38,
    "start_time": "2022-11-22T18:24:31.286Z"
   },
   {
    "duration": 663,
    "start_time": "2022-11-22T18:27:49.938Z"
   },
   {
    "duration": 599,
    "start_time": "2022-11-22T18:27:55.767Z"
   },
   {
    "duration": 663,
    "start_time": "2022-11-22T18:28:00.010Z"
   },
   {
    "duration": 589,
    "start_time": "2022-11-22T18:28:05.782Z"
   },
   {
    "duration": 896,
    "start_time": "2022-11-22T18:28:14.647Z"
   },
   {
    "duration": 939,
    "start_time": "2022-11-22T18:28:19.030Z"
   },
   {
    "duration": 1057,
    "start_time": "2022-11-22T18:28:35.037Z"
   },
   {
    "duration": 1388,
    "start_time": "2022-11-22T18:28:40.621Z"
   },
   {
    "duration": 985,
    "start_time": "2022-11-22T18:28:47.164Z"
   },
   {
    "duration": 832,
    "start_time": "2022-11-22T18:28:53.731Z"
   },
   {
    "duration": 762,
    "start_time": "2022-11-22T18:28:58.616Z"
   },
   {
    "duration": 852,
    "start_time": "2022-11-22T18:29:02.326Z"
   },
   {
    "duration": 485,
    "start_time": "2022-11-22T18:29:12.114Z"
   },
   {
    "duration": 677,
    "start_time": "2022-11-22T18:29:17.915Z"
   },
   {
    "duration": 870,
    "start_time": "2022-11-22T18:29:23.369Z"
   },
   {
    "duration": 5711,
    "start_time": "2022-11-22T18:29:58.772Z"
   },
   {
    "duration": 5851,
    "start_time": "2022-11-22T18:30:14.943Z"
   },
   {
    "duration": 5104,
    "start_time": "2022-11-22T18:30:34.391Z"
   },
   {
    "duration": 5942,
    "start_time": "2022-11-22T18:30:45.705Z"
   },
   {
    "duration": 382,
    "start_time": "2022-11-22T18:32:50.141Z"
   },
   {
    "duration": 377,
    "start_time": "2022-11-22T18:33:06.592Z"
   },
   {
    "duration": 795,
    "start_time": "2022-11-22T18:35:05.103Z"
   },
   {
    "duration": 534,
    "start_time": "2022-11-22T18:35:15.872Z"
   },
   {
    "duration": 380,
    "start_time": "2022-11-22T18:35:21.226Z"
   },
   {
    "duration": 648,
    "start_time": "2022-11-22T18:35:24.350Z"
   },
   {
    "duration": 3,
    "start_time": "2022-11-22T18:36:59.979Z"
   },
   {
    "duration": 217,
    "start_time": "2022-11-22T18:37:48.790Z"
   },
   {
    "duration": 229,
    "start_time": "2022-11-22T18:39:02.271Z"
   },
   {
    "duration": 264,
    "start_time": "2022-11-22T18:39:09.868Z"
   },
   {
    "duration": 253,
    "start_time": "2022-11-22T18:39:46.612Z"
   },
   {
    "duration": 280,
    "start_time": "2022-11-22T18:40:52.869Z"
   },
   {
    "duration": 717,
    "start_time": "2022-11-22T18:41:17.674Z"
   },
   {
    "duration": 902,
    "start_time": "2022-11-22T18:41:27.770Z"
   },
   {
    "duration": 808,
    "start_time": "2022-11-22T18:42:12.431Z"
   },
   {
    "duration": 844,
    "start_time": "2022-11-22T18:43:18.648Z"
   },
   {
    "duration": 274,
    "start_time": "2022-11-22T18:43:24.940Z"
   },
   {
    "duration": 725,
    "start_time": "2022-11-22T18:44:03.663Z"
   },
   {
    "duration": 2810,
    "start_time": "2022-11-22T18:44:45.068Z"
   },
   {
    "duration": 3163,
    "start_time": "2022-11-22T18:44:56.821Z"
   },
   {
    "duration": 327,
    "start_time": "2022-11-22T18:46:13.379Z"
   },
   {
    "duration": 528,
    "start_time": "2022-11-22T18:46:16.870Z"
   },
   {
    "duration": 390,
    "start_time": "2022-11-22T18:46:21.420Z"
   },
   {
    "duration": 345,
    "start_time": "2022-11-22T18:46:25.063Z"
   },
   {
    "duration": 340,
    "start_time": "2022-11-22T18:46:29.059Z"
   },
   {
    "duration": 390,
    "start_time": "2022-11-22T18:46:34.512Z"
   },
   {
    "duration": 414,
    "start_time": "2022-11-22T18:46:38.489Z"
   },
   {
    "duration": 358,
    "start_time": "2022-11-22T18:46:42.443Z"
   },
   {
    "duration": 503,
    "start_time": "2022-11-22T18:46:46.596Z"
   },
   {
    "duration": 436,
    "start_time": "2022-11-22T18:46:50.066Z"
   },
   {
    "duration": 419,
    "start_time": "2022-11-22T18:46:55.983Z"
   },
   {
    "duration": 421,
    "start_time": "2022-11-22T18:46:59.779Z"
   },
   {
    "duration": 327,
    "start_time": "2022-11-22T18:47:02.879Z"
   },
   {
    "duration": 488,
    "start_time": "2022-11-22T18:47:07.410Z"
   },
   {
    "duration": 420,
    "start_time": "2022-11-22T18:47:09.882Z"
   },
   {
    "duration": 231,
    "start_time": "2022-11-22T18:47:12.571Z"
   },
   {
    "duration": 322,
    "start_time": "2022-11-22T18:47:15.276Z"
   },
   {
    "duration": 395,
    "start_time": "2022-11-22T18:47:17.602Z"
   },
   {
    "duration": 419,
    "start_time": "2022-11-22T18:47:20.180Z"
   },
   {
    "duration": 488,
    "start_time": "2022-11-22T18:47:23.910Z"
   },
   {
    "duration": 347,
    "start_time": "2022-11-22T18:47:27.055Z"
   },
   {
    "duration": 137,
    "start_time": "2022-11-22T18:48:13.772Z"
   },
   {
    "duration": 3,
    "start_time": "2022-11-22T18:52:56.653Z"
   },
   {
    "duration": 41,
    "start_time": "2022-11-22T18:52:57.887Z"
   },
   {
    "duration": 28,
    "start_time": "2022-11-22T18:52:58.882Z"
   },
   {
    "duration": 6,
    "start_time": "2022-11-22T18:53:06.224Z"
   },
   {
    "duration": 7,
    "start_time": "2022-11-22T18:53:07.827Z"
   },
   {
    "duration": 24,
    "start_time": "2022-11-22T18:53:09.402Z"
   },
   {
    "duration": 6,
    "start_time": "2022-11-22T18:53:11.812Z"
   },
   {
    "duration": 6,
    "start_time": "2022-11-22T18:53:13.424Z"
   },
   {
    "duration": 128,
    "start_time": "2022-11-22T18:53:17.226Z"
   },
   {
    "duration": 293,
    "start_time": "2022-11-22T18:53:22.962Z"
   },
   {
    "duration": 4348,
    "start_time": "2022-11-22T18:53:33.859Z"
   },
   {
    "duration": 542,
    "start_time": "2022-11-22T18:53:40.655Z"
   },
   {
    "duration": 421,
    "start_time": "2022-11-22T18:54:04.417Z"
   },
   {
    "duration": 388,
    "start_time": "2022-11-22T18:54:09.150Z"
   },
   {
    "duration": 5374,
    "start_time": "2022-11-22T18:54:27.529Z"
   },
   {
    "duration": 803,
    "start_time": "2022-11-22T18:54:44.200Z"
   },
   {
    "duration": 262,
    "start_time": "2022-11-22T18:54:55.388Z"
   },
   {
    "duration": 3281,
    "start_time": "2022-11-22T18:55:03.203Z"
   },
   {
    "duration": 379,
    "start_time": "2022-11-22T18:55:14.520Z"
   },
   {
    "duration": 6,
    "start_time": "2022-11-22T18:55:29.909Z"
   },
   {
    "duration": 3307,
    "start_time": "2022-11-22T18:56:55.531Z"
   },
   {
    "duration": 5,
    "start_time": "2022-11-22T18:57:13.274Z"
   },
   {
    "duration": 48,
    "start_time": "2022-11-22T18:57:23.506Z"
   },
   {
    "duration": 10,
    "start_time": "2022-11-22T19:08:11.421Z"
   },
   {
    "duration": 9,
    "start_time": "2022-11-22T19:08:31.669Z"
   },
   {
    "duration": 108,
    "start_time": "2022-11-22T19:08:37.529Z"
   },
   {
    "duration": 249,
    "start_time": "2022-11-22T19:08:48.515Z"
   },
   {
    "duration": 3518,
    "start_time": "2022-11-22T19:09:12.961Z"
   },
   {
    "duration": 503,
    "start_time": "2022-11-22T19:09:43.199Z"
   },
   {
    "duration": 3,
    "start_time": "2022-11-22T19:10:09.554Z"
   },
   {
    "duration": 299,
    "start_time": "2022-11-22T19:10:30.541Z"
   },
   {
    "duration": 4417,
    "start_time": "2022-11-22T19:11:15.788Z"
   },
   {
    "duration": 4790,
    "start_time": "2022-11-22T19:11:39.971Z"
   },
   {
    "duration": 330,
    "start_time": "2022-11-22T19:12:03.819Z"
   },
   {
    "duration": 723,
    "start_time": "2022-11-22T19:12:28.679Z"
   },
   {
    "duration": 5,
    "start_time": "2022-11-22T19:12:34.685Z"
   },
   {
    "duration": 230,
    "start_time": "2022-11-22T19:12:50.581Z"
   },
   {
    "duration": 3204,
    "start_time": "2022-11-22T19:13:13.367Z"
   },
   {
    "duration": 3145,
    "start_time": "2022-11-22T19:13:24.774Z"
   },
   {
    "duration": 499,
    "start_time": "2022-11-22T19:13:39.899Z"
   },
   {
    "duration": 397,
    "start_time": "2022-11-22T19:13:49.206Z"
   },
   {
    "duration": 379,
    "start_time": "2022-11-22T19:14:37.168Z"
   },
   {
    "duration": 4,
    "start_time": "2022-11-22T19:15:17.031Z"
   },
   {
    "duration": 398,
    "start_time": "2022-11-22T19:15:22.729Z"
   },
   {
    "duration": 5909,
    "start_time": "2022-11-22T19:15:52.182Z"
   },
   {
    "duration": 8,
    "start_time": "2022-11-22T19:16:19.705Z"
   },
   {
    "duration": 215,
    "start_time": "2022-11-22T19:16:24.077Z"
   },
   {
    "duration": 3410,
    "start_time": "2022-11-22T19:16:30.090Z"
   },
   {
    "duration": 460,
    "start_time": "2022-11-22T19:16:37.840Z"
   },
   {
    "duration": 4,
    "start_time": "2022-11-22T19:16:42.132Z"
   },
   {
    "duration": 318,
    "start_time": "2022-11-22T19:16:51.251Z"
   },
   {
    "duration": 4786,
    "start_time": "2022-11-22T19:16:59.558Z"
   },
   {
    "duration": 713,
    "start_time": "2022-11-22T19:17:07.786Z"
   },
   {
    "duration": 4,
    "start_time": "2022-11-22T19:17:10.579Z"
   },
   {
    "duration": 250,
    "start_time": "2022-11-22T19:18:34.689Z"
   },
   {
    "duration": 3186,
    "start_time": "2022-11-22T19:18:59.807Z"
   },
   {
    "duration": 438,
    "start_time": "2022-11-22T19:19:07.866Z"
   },
   {
    "duration": 47,
    "start_time": "2022-11-22T19:19:26.175Z"
   },
   {
    "duration": 51,
    "start_time": "2022-11-22T19:19:55.095Z"
   },
   {
    "duration": 63,
    "start_time": "2022-11-22T19:24:33.539Z"
   },
   {
    "duration": 63,
    "start_time": "2022-11-22T19:26:22.379Z"
   },
   {
    "duration": 103,
    "start_time": "2022-11-22T19:26:42.468Z"
   },
   {
    "duration": 52,
    "start_time": "2022-11-22T19:27:52.399Z"
   },
   {
    "duration": 107,
    "start_time": "2022-11-22T19:27:55.766Z"
   },
   {
    "duration": 2081,
    "start_time": "2022-11-23T03:55:30.784Z"
   },
   {
    "duration": 169,
    "start_time": "2022-11-23T03:55:32.867Z"
   },
   {
    "duration": 35,
    "start_time": "2022-11-23T03:55:33.037Z"
   },
   {
    "duration": 6,
    "start_time": "2022-11-23T03:55:33.073Z"
   },
   {
    "duration": 8,
    "start_time": "2022-11-23T03:55:33.080Z"
   },
   {
    "duration": 39,
    "start_time": "2022-11-23T03:55:33.089Z"
   },
   {
    "duration": 5,
    "start_time": "2022-11-23T03:55:33.129Z"
   },
   {
    "duration": 12,
    "start_time": "2022-11-23T03:55:33.136Z"
   },
   {
    "duration": 150,
    "start_time": "2022-11-23T03:55:33.149Z"
   },
   {
    "duration": 242,
    "start_time": "2022-11-23T03:55:33.301Z"
   },
   {
    "duration": 3663,
    "start_time": "2022-11-23T03:55:33.545Z"
   },
   {
    "duration": 614,
    "start_time": "2022-11-23T03:55:37.210Z"
   },
   {
    "duration": 85,
    "start_time": "2022-11-23T03:55:37.838Z"
   },
   {
    "duration": 349,
    "start_time": "2022-11-23T03:55:37.925Z"
   },
   {
    "duration": 5021,
    "start_time": "2022-11-23T03:55:38.275Z"
   },
   {
    "duration": 529,
    "start_time": "2022-11-23T03:55:43.297Z"
   },
   {
    "duration": 5,
    "start_time": "2022-11-23T03:55:43.827Z"
   },
   {
    "duration": 356,
    "start_time": "2022-11-23T03:55:43.923Z"
   },
   {
    "duration": 3521,
    "start_time": "2022-11-23T03:55:44.280Z"
   },
   {
    "duration": 520,
    "start_time": "2022-11-23T03:55:47.803Z"
   },
   {
    "duration": 133,
    "start_time": "2022-11-23T03:55:48.324Z"
   },
   {
    "duration": 64,
    "start_time": "2022-11-23T03:55:48.458Z"
   },
   {
    "duration": 121,
    "start_time": "2022-11-23T03:55:48.524Z"
   },
   {
    "duration": 1607,
    "start_time": "2022-11-23T16:01:19.740Z"
   },
   {
    "duration": 158,
    "start_time": "2022-11-23T16:01:21.349Z"
   },
   {
    "duration": 42,
    "start_time": "2022-11-23T16:01:21.510Z"
   },
   {
    "duration": 6,
    "start_time": "2022-11-23T16:01:21.554Z"
   },
   {
    "duration": 11,
    "start_time": "2022-11-23T16:01:21.562Z"
   },
   {
    "duration": 52,
    "start_time": "2022-11-23T16:01:21.575Z"
   },
   {
    "duration": 10,
    "start_time": "2022-11-23T16:01:21.629Z"
   },
   {
    "duration": 19,
    "start_time": "2022-11-23T16:01:21.641Z"
   },
   {
    "duration": 171,
    "start_time": "2022-11-23T16:01:21.662Z"
   },
   {
    "duration": 265,
    "start_time": "2022-11-23T16:01:21.836Z"
   },
   {
    "duration": 4046,
    "start_time": "2022-11-23T16:01:22.103Z"
   },
   {
    "duration": 282,
    "start_time": "2022-11-23T16:01:26.151Z"
   },
   {
    "duration": 90,
    "start_time": "2022-11-23T16:01:26.435Z"
   },
   {
    "duration": 467,
    "start_time": "2022-11-23T16:01:26.527Z"
   },
   {
    "duration": 5479,
    "start_time": "2022-11-23T16:01:26.996Z"
   },
   {
    "duration": 945,
    "start_time": "2022-11-23T16:01:32.477Z"
   },
   {
    "duration": 6,
    "start_time": "2022-11-23T16:01:33.424Z"
   },
   {
    "duration": 361,
    "start_time": "2022-11-23T16:01:33.431Z"
   },
   {
    "duration": 3638,
    "start_time": "2022-11-23T16:01:33.794Z"
   },
   {
    "duration": 501,
    "start_time": "2022-11-23T16:01:37.434Z"
   },
   {
    "duration": 217,
    "start_time": "2022-11-23T16:01:37.937Z"
   },
   {
    "duration": 71,
    "start_time": "2022-11-23T16:01:38.155Z"
   },
   {
    "duration": 126,
    "start_time": "2022-11-23T16:01:38.228Z"
   },
   {
    "duration": 52,
    "start_time": "2022-11-23T16:09:35.009Z"
   },
   {
    "duration": 48,
    "start_time": "2022-11-23T16:09:42.079Z"
   },
   {
    "duration": 5,
    "start_time": "2022-11-23T16:12:58.902Z"
   }
  ],
  "kernelspec": {
   "display_name": "Python 3 (ipykernel)",
   "language": "python",
   "name": "python3"
  },
  "language_info": {
   "codemirror_mode": {
    "name": "ipython",
    "version": 3
   },
   "file_extension": ".py",
   "mimetype": "text/x-python",
   "name": "python",
   "nbconvert_exporter": "python",
   "pygments_lexer": "ipython3",
   "version": "3.10.8"
  },
  "toc": {
   "base_numbering": 1,
   "nav_menu": {},
   "number_sections": true,
   "sideBar": true,
   "skip_h1_title": true,
   "title_cell": "Содержание",
   "title_sidebar": "Contents",
   "toc_cell": true,
   "toc_position": {
    "height": "calc(100% - 180px)",
    "left": "10px",
    "top": "150px",
    "width": "249px"
   },
   "toc_section_display": true,
   "toc_window_display": true
  },
  "varInspector": {
   "cols": {
    "lenName": 16,
    "lenType": 16,
    "lenVar": 40
   },
   "kernels_config": {
    "python": {
     "delete_cmd_postfix": "",
     "delete_cmd_prefix": "del ",
     "library": "var_list.py",
     "varRefreshCmd": "print(var_dic_list())"
    },
    "r": {
     "delete_cmd_postfix": ") ",
     "delete_cmd_prefix": "rm(",
     "library": "var_list.r",
     "varRefreshCmd": "cat(var_dic_list()) "
    }
   },
   "types_to_exclude": [
    "module",
    "function",
    "builtin_function_or_method",
    "instance",
    "_Feature"
   ],
   "window_display": false
  }
 },
 "nbformat": 4,
 "nbformat_minor": 2
}
